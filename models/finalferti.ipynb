{
 "cells": [
  {
   "cell_type": "code",
   "execution_count": 1,
   "id": "hazardous-juice",
   "metadata": {},
   "outputs": [],
   "source": [
    "#importing libraries\n",
    "import pandas as pd\n",
    "import seaborn as sns\n",
    "import matplotlib.pyplot as plt\n",
    "import numpy as np\n",
    "import warnings\n",
    "warnings.filterwarnings('ignore')"
   ]
  },
  {
   "cell_type": "code",
   "execution_count": null,
   "id": "03070edd",
   "metadata": {},
   "outputs": [
    {
     "name": "stdout",
     "output_type": "stream",
     "text": [
      "numpy 2.0.2\n",
      "pandas 2.2.3\n",
      "seab 0.13.2\n"
     ]
    }
   ],
   "source": [
    "print(\"numpy\", np.__version__)\n",
    "print(\"pandas\", pd.__version__)\n",
    "# print(\"matplot\", plt.__version__)\n",
    "print(\"seab\", sns.__version__)\n"
   ]
  },
  {
   "cell_type": "code",
   "execution_count": 3,
   "id": "signed-float",
   "metadata": {},
   "outputs": [
    {
     "data": {
      "application/vnd.microsoft.datawrangler.viewer.v0+json": {
       "columns": [
        {
         "name": "index",
         "rawType": "int64",
         "type": "integer"
        },
        {
         "name": "Temparature",
         "rawType": "int64",
         "type": "integer"
        },
        {
         "name": "Humidity",
         "rawType": "int64",
         "type": "integer"
        },
        {
         "name": "Moisture",
         "rawType": "int64",
         "type": "integer"
        },
        {
         "name": "Soil_Type",
         "rawType": "object",
         "type": "string"
        },
        {
         "name": "Crop_Type",
         "rawType": "object",
         "type": "string"
        },
        {
         "name": "Nitrogen",
         "rawType": "int64",
         "type": "integer"
        },
        {
         "name": "Potassium",
         "rawType": "int64",
         "type": "integer"
        },
        {
         "name": "Phosphorous",
         "rawType": "int64",
         "type": "integer"
        },
        {
         "name": "Fertilizer",
         "rawType": "object",
         "type": "string"
        }
       ],
       "conversionMethod": "pd.DataFrame",
       "ref": "3f3aab0d-50e6-49fc-9298-7aac655b1d2a",
       "rows": [
        [
         "0",
         "20",
         "83",
         "26",
         "Clayey",
         "rice",
         "90",
         "49",
         "36",
         "Urea"
        ],
        [
         "1",
         "25",
         "84",
         "32",
         "Loamy",
         "rice",
         "66",
         "59",
         "36",
         "Urea"
        ],
        [
         "2",
         "33",
         "64",
         "50",
         "Loamy",
         "Wheat",
         "41",
         "0",
         "0",
         "Urea"
        ],
        [
         "3",
         "34",
         "65",
         "54",
         "Loamy",
         "Wheat",
         "38",
         "0",
         "0",
         "Urea"
        ],
        [
         "4",
         "38",
         "72",
         "51",
         "Loamy",
         "Wheat",
         "39",
         "0",
         "0",
         "Urea"
        ]
       ],
       "shape": {
        "columns": 9,
        "rows": 5
       }
      },
      "text/html": [
       "<div>\n",
       "<style scoped>\n",
       "    .dataframe tbody tr th:only-of-type {\n",
       "        vertical-align: middle;\n",
       "    }\n",
       "\n",
       "    .dataframe tbody tr th {\n",
       "        vertical-align: top;\n",
       "    }\n",
       "\n",
       "    .dataframe thead th {\n",
       "        text-align: right;\n",
       "    }\n",
       "</style>\n",
       "<table border=\"1\" class=\"dataframe\">\n",
       "  <thead>\n",
       "    <tr style=\"text-align: right;\">\n",
       "      <th></th>\n",
       "      <th>Temparature</th>\n",
       "      <th>Humidity</th>\n",
       "      <th>Moisture</th>\n",
       "      <th>Soil_Type</th>\n",
       "      <th>Crop_Type</th>\n",
       "      <th>Nitrogen</th>\n",
       "      <th>Potassium</th>\n",
       "      <th>Phosphorous</th>\n",
       "      <th>Fertilizer</th>\n",
       "    </tr>\n",
       "  </thead>\n",
       "  <tbody>\n",
       "    <tr>\n",
       "      <th>0</th>\n",
       "      <td>20</td>\n",
       "      <td>83</td>\n",
       "      <td>26</td>\n",
       "      <td>Clayey</td>\n",
       "      <td>rice</td>\n",
       "      <td>90</td>\n",
       "      <td>49</td>\n",
       "      <td>36</td>\n",
       "      <td>Urea</td>\n",
       "    </tr>\n",
       "    <tr>\n",
       "      <th>1</th>\n",
       "      <td>25</td>\n",
       "      <td>84</td>\n",
       "      <td>32</td>\n",
       "      <td>Loamy</td>\n",
       "      <td>rice</td>\n",
       "      <td>66</td>\n",
       "      <td>59</td>\n",
       "      <td>36</td>\n",
       "      <td>Urea</td>\n",
       "    </tr>\n",
       "    <tr>\n",
       "      <th>2</th>\n",
       "      <td>33</td>\n",
       "      <td>64</td>\n",
       "      <td>50</td>\n",
       "      <td>Loamy</td>\n",
       "      <td>Wheat</td>\n",
       "      <td>41</td>\n",
       "      <td>0</td>\n",
       "      <td>0</td>\n",
       "      <td>Urea</td>\n",
       "    </tr>\n",
       "    <tr>\n",
       "      <th>3</th>\n",
       "      <td>34</td>\n",
       "      <td>65</td>\n",
       "      <td>54</td>\n",
       "      <td>Loamy</td>\n",
       "      <td>Wheat</td>\n",
       "      <td>38</td>\n",
       "      <td>0</td>\n",
       "      <td>0</td>\n",
       "      <td>Urea</td>\n",
       "    </tr>\n",
       "    <tr>\n",
       "      <th>4</th>\n",
       "      <td>38</td>\n",
       "      <td>72</td>\n",
       "      <td>51</td>\n",
       "      <td>Loamy</td>\n",
       "      <td>Wheat</td>\n",
       "      <td>39</td>\n",
       "      <td>0</td>\n",
       "      <td>0</td>\n",
       "      <td>Urea</td>\n",
       "    </tr>\n",
       "  </tbody>\n",
       "</table>\n",
       "</div>"
      ],
      "text/plain": [
       "   Temparature  Humidity  Moisture Soil_Type Crop_Type  Nitrogen  Potassium  \\\n",
       "0           20        83        26    Clayey      rice        90         49   \n",
       "1           25        84        32     Loamy      rice        66         59   \n",
       "2           33        64        50     Loamy     Wheat        41          0   \n",
       "3           34        65        54     Loamy     Wheat        38          0   \n",
       "4           38        72        51     Loamy     Wheat        39          0   \n",
       "\n",
       "   Phosphorous Fertilizer  \n",
       "0           36       Urea  \n",
       "1           36       Urea  \n",
       "2            0       Urea  \n",
       "3            0       Urea  \n",
       "4            0       Urea  "
      ]
     },
     "execution_count": 3,
     "metadata": {},
     "output_type": "execute_result"
    }
   ],
   "source": [
    "#importing the dataset\n",
    "data = pd.read_csv('f2.csv')\n",
    "data.head()"
   ]
  },
  {
   "cell_type": "code",
   "execution_count": 4,
   "id": "d1733eed",
   "metadata": {},
   "outputs": [
    {
     "data": {
      "text/plain": [
       "Index(['Temparature', 'Humidity', 'Moisture', 'Soil_Type', 'Crop_Type',\n",
       "       'Nitrogen', 'Potassium', 'Phosphorous', 'Fertilizer'],\n",
       "      dtype='object')"
      ]
     },
     "execution_count": 4,
     "metadata": {},
     "output_type": "execute_result"
    }
   ],
   "source": [
    "data.columns"
   ]
  },
  {
   "cell_type": "code",
   "execution_count": 5,
   "id": "28489612",
   "metadata": {},
   "outputs": [
    {
     "name": "stdout",
     "output_type": "stream",
     "text": [
      "(552,)\n",
      "['Clayey' 'Loamy' 'Loamy' 'Loamy' 'Loamy' 'Red' 'Loamy' 'Black' 'Clayey'\n",
      " 'Clayey' 'Loamy' 'Clayey' 'Clayey' 'Clayey' 'Black' 'Black' 'Black'\n",
      " 'Black' 'Sandy' 'Black' 'Sandy' 'Red' 'Red' 'Loamy' 'Black' 'Loamy'\n",
      " 'Loamy' 'Loamy' 'Loamy' 'Loamy' 'Loamy' 'Loamy' 'Loamy' 'Loamy' 'Loamy'\n",
      " 'Loamy' 'Loamy' 'Loamy' 'Loamy' 'Sandy' 'Loamy' 'Loamy' 'Loamy' 'Clayey'\n",
      " 'Loamy' 'Red' 'Loamy' 'Loamy' 'Clayey' 'Clayey' 'Clayey' 'Black' 'Sandy'\n",
      " 'Sandy' 'Red' 'Red' 'Red' 'Sandy' 'Loamy' 'Red' 'Red' 'Black' 'Loamy'\n",
      " 'Sandy' 'Sandy' 'Sandy' 'Sandy' 'Loamy' 'Loamy' 'Red' 'Red' 'Red'\n",
      " 'Clayey' 'Clayey' 'Clayey' 'Clayey' 'Sandy' 'Black' 'Sandy' 'Sandy' 'Red'\n",
      " 'Black' 'Sandy' 'Sandy' 'Loamy' 'Black' 'Loamy' 'Loamy' 'Black' 'Clayey'\n",
      " 'Clayey' 'Clayey' 'Black' 'Black' 'Sandy' 'Sandy' 'Sandy' 'Red' 'Black'\n",
      " 'Loamy' 'Loamy' 'Sandy' 'Red' 'Red' 'Sandy' 'Clayey' 'Loamy' 'Loamy'\n",
      " 'Loamy' 'Loamy' 'Loamy' 'Loamy' 'Clayey' 'Clayey' 'Clayey' 'Black'\n",
      " 'Black' 'Sandy' 'Sandy' 'Black' 'Red' 'Loamy' 'Sandy' 'Loamy' 'Loamy'\n",
      " 'Loamy' 'Loamy' 'Loamy' 'Red' 'Red' 'Clayey' 'Clayey' 'Clayey' 'Sandy'\n",
      " 'Sandy' 'Sandy' 'Sandy' 'Clayey' 'Clayey' 'Clayey' 'Clayey' 'Loamy'\n",
      " 'Loamy' 'Loamy' 'Loamy' 'Loamy' 'Loamy' 'Loamy' 'Loamy' 'Loamy' 'Loamy'\n",
      " 'Loamy' 'Loamy' 'Red' 'Red' 'Red' 'Loamy' 'Loamy' 'Loamy' 'Black' 'Black'\n",
      " 'Black' 'Clayey' 'Clayey' 'Clayey' 'Clayey' 'Clayey' 'Clayey' 'Loamy'\n",
      " 'Loamy' 'Loamy' 'Clayey' 'Clayey' 'Clayey' 'Clayey' 'Clayey' 'Clayey'\n",
      " 'Clayey' 'Clayey' 'Clayey' 'Black' 'Black' 'Black' 'Black' 'Black'\n",
      " 'Black' 'Black' 'Black' 'Black' 'Black' 'Black' 'Black' 'Sandy' 'Sandy'\n",
      " 'Sandy' 'Black' 'Black' 'Black' 'Sandy' 'Sandy' 'Sandy' 'Red' 'Red' 'Red'\n",
      " 'Red' 'Red' 'Red' 'Loamy' 'Loamy' 'Loamy' 'Black' 'Black' 'Black' 'Loamy'\n",
      " 'Loamy' 'Loamy' 'Loamy' 'Loamy' 'Loamy' 'Loamy' 'Loamy' 'Loamy' 'Loamy'\n",
      " 'Loamy' 'Loamy' 'Loamy' 'Loamy' 'Loamy' 'Loamy' 'Loamy' 'Loamy' 'Loamy'\n",
      " 'Loamy' 'Loamy' 'Loamy' 'Loamy' 'Loamy' 'Loamy' 'Loamy' 'Loamy' 'Loamy'\n",
      " 'Loamy' 'Loamy' 'Loamy' 'Loamy' 'Loamy' 'Loamy' 'Loamy' 'Loamy' 'Loamy'\n",
      " 'Loamy' 'Loamy' 'Loamy' 'Loamy' 'Loamy' 'Sandy' 'Sandy' 'Sandy' 'Loamy'\n",
      " 'Loamy' 'Loamy' 'Loamy' 'Loamy' 'Loamy' 'Loamy' 'Loamy' 'Loamy' 'Clayey'\n",
      " 'Clayey' 'Clayey' 'Loamy' 'Loamy' 'Loamy' 'Red' 'Red' 'Red' 'Loamy'\n",
      " 'Loamy' 'Loamy' 'Loamy' 'Loamy' 'Loamy' 'Clayey' 'Clayey' 'Clayey'\n",
      " 'Clayey' 'Clayey' 'Clayey' 'Clayey' 'Clayey' 'Clayey' 'Black' 'Black'\n",
      " 'Black' 'Sandy' 'Sandy' 'Sandy' 'Sandy' 'Sandy' 'Sandy' 'Red' 'Red' 'Red'\n",
      " 'Red' 'Red' 'Red' 'Red' 'Red' 'Red' 'Sandy' 'Sandy' 'Sandy' 'Loamy'\n",
      " 'Loamy' 'Loamy' 'Red' 'Red' 'Red' 'Red' 'Red' 'Red' 'Black' 'Black'\n",
      " 'Black' 'Loamy' 'Loamy' 'Loamy' 'Sandy' 'Sandy' 'Sandy' 'Sandy' 'Sandy'\n",
      " 'Sandy' 'Sandy' 'Sandy' 'Sandy' 'Sandy' 'Sandy' 'Sandy' 'Loamy' 'Loamy'\n",
      " 'Loamy' 'Loamy' 'Loamy' 'Loamy' 'Red' 'Red' 'Red' 'Red' 'Red' 'Red' 'Red'\n",
      " 'Red' 'Red' 'Clayey' 'Clayey' 'Clayey' 'Clayey' 'Clayey' 'Clayey'\n",
      " 'Clayey' 'Clayey' 'Clayey' 'Clayey' 'Clayey' 'Clayey' 'Sandy' 'Sandy'\n",
      " 'Sandy' 'Black' 'Black' 'Black' 'Sandy' 'Sandy' 'Sandy' 'Sandy' 'Sandy'\n",
      " 'Sandy' 'Red' 'Red' 'Red' 'Black' 'Black' 'Black' 'Sandy' 'Sandy' 'Sandy'\n",
      " 'Sandy' 'Sandy' 'Sandy' 'Loamy' 'Loamy' 'Loamy' 'Black' 'Black' 'Black'\n",
      " 'Loamy' 'Loamy' 'Loamy' 'Loamy' 'Loamy' 'Loamy' 'Black' 'Black' 'Black'\n",
      " 'Clayey' 'Clayey' 'Clayey' 'Clayey' 'Clayey' 'Clayey' 'Clayey' 'Clayey'\n",
      " 'Clayey' 'Black' 'Black' 'Black' 'Black' 'Black' 'Black' 'Sandy' 'Sandy'\n",
      " 'Sandy' 'Sandy' 'Sandy' 'Sandy' 'Sandy' 'Sandy' 'Sandy' 'Red' 'Red' 'Red'\n",
      " 'Black' 'Black' 'Black' 'Loamy' 'Loamy' 'Loamy' 'Loamy' 'Loamy' 'Loamy'\n",
      " 'Sandy' 'Sandy' 'Sandy' 'Red' 'Red' 'Red' 'Red' 'Red' 'Red' 'Sandy'\n",
      " 'Sandy' 'Sandy' 'Clayey' 'Clayey' 'Clayey' 'Loamy' 'Loamy' 'Loamy'\n",
      " 'Loamy' 'Loamy' 'Loamy' 'Loamy' 'Loamy' 'Loamy' 'Loamy' 'Loamy' 'Loamy'\n",
      " 'Loamy' 'Loamy' 'Loamy' 'Loamy' 'Loamy' 'Loamy' 'Clayey' 'Clayey'\n",
      " 'Clayey' 'Clayey' 'Clayey' 'Clayey' 'Clayey' 'Clayey' 'Clayey' 'Black'\n",
      " 'Black' 'Black' 'Black' 'Black' 'Black' 'Sandy' 'Sandy' 'Sandy' 'Sandy'\n",
      " 'Sandy' 'Sandy' 'Black' 'Black' 'Black' 'Red' 'Red' 'Red' 'Loamy' 'Loamy'\n",
      " 'Loamy' 'Sandy' 'Sandy' 'Sandy' 'Loamy' 'Loamy' 'Loamy' 'Loamy' 'Loamy'\n",
      " 'Loamy' 'Loamy' 'Loamy' 'Loamy' 'Loamy' 'Loamy' 'Loamy' 'Loamy' 'Loamy'\n",
      " 'Loamy' 'Red' 'Red' 'Red' 'Red' 'Red' 'Red' 'Clayey' 'Clayey' 'Clayey'\n",
      " 'Clayey' 'Clayey' 'Clayey' 'Clayey' 'Clayey' 'Clayey' 'Sandy' 'Sandy'\n",
      " 'Sandy' 'Sandy' 'Sandy' 'Sandy' 'Sandy' 'Sandy' 'Sandy' 'Sandy' 'Sandy'\n",
      " 'Sandy' 'Clayey' 'Clayey' 'Clayey']\n"
     ]
    }
   ],
   "source": [
    "list = data['Soil_Type'].values\n",
    "print(list.shape)\n",
    "print(list)"
   ]
  },
  {
   "cell_type": "code",
   "execution_count": 6,
   "id": "6366b457",
   "metadata": {},
   "outputs": [],
   "source": [
    "# Define the number of augmented samples to create for each original sample\n",
    "# increase dataset from 100 rows to 500\n",
    "\n",
    "\n",
    "# num_augmented_samples = 3\n",
    "\n",
    "# augmented_data = []\n",
    "\n",
    "# for index, row in dataset.iterrows():\n",
    "#     original_sample = row.to_dict()\n",
    "#     augmented_samples = []\n",
    "\n",
    "#     for _ in range(num_augmented_samples):\n",
    "#         augmented_sample = original_sample.copy()\n",
    "#         augmented_sample['Temparature'] += np.random.normal(0, 0.1)\n",
    "#         augmented_sample['Humidity'] += np.random.normal(0, 0.1)\n",
    "#         augmented_sample['Moisture'] += np.random.normal(0, 0.1)\n",
    "#         augmented_sample['Nitrogen'] += np.random.normal(0, 0.1)\n",
    "#         augmented_sample['Potassium'] += np.random.normal(0, 0.1)\n",
    "#         augmented_sample['Phosphorous'] += np.random.normal(0, 0.1)\n",
    "#         # Add more transformations for other columns as needed\n",
    "#         augmented_samples.append(augmented_sample)\n",
    "\n",
    "\n",
    "#     augmented_data.extend(augmented_samples)\n",
    "\n",
    "# # Convert the augmented data to a DataFrame\n",
    "# augmented_dataset = pd.DataFrame(augmented_data)\n",
    "\n",
    "# # Concatenate the original dataset \n",
    "# data = pd.concat([dataset, augmented_dataset], ignore_index=True)"
   ]
  },
  {
   "cell_type": "code",
   "execution_count": 7,
   "id": "durable-photographer",
   "metadata": {},
   "outputs": [
    {
     "name": "stdout",
     "output_type": "stream",
     "text": [
      "<class 'pandas.core.frame.DataFrame'>\n",
      "RangeIndex: 552 entries, 0 to 551\n",
      "Data columns (total 9 columns):\n",
      " #   Column       Non-Null Count  Dtype \n",
      "---  ------       --------------  ----- \n",
      " 0   Temparature  552 non-null    int64 \n",
      " 1   Humidity     552 non-null    int64 \n",
      " 2   Moisture     552 non-null    int64 \n",
      " 3   Soil_Type    552 non-null    object\n",
      " 4   Crop_Type    552 non-null    object\n",
      " 5   Nitrogen     552 non-null    int64 \n",
      " 6   Potassium    552 non-null    int64 \n",
      " 7   Phosphorous  552 non-null    int64 \n",
      " 8   Fertilizer   552 non-null    object\n",
      "dtypes: int64(6), object(3)\n",
      "memory usage: 38.9+ KB\n"
     ]
    }
   ],
   "source": [
    "data.info()"
   ]
  },
  {
   "cell_type": "code",
   "execution_count": 8,
   "id": "63f76ef6",
   "metadata": {},
   "outputs": [],
   "source": [
    "#changing the column names\n",
    "data.rename(columns={'Humidity ':'Humidity','Soil Type':'Soil_Type','Crop Type':'Crop_Type','Fertilizer Name':'Fertilizer'},inplace=True)"
   ]
  },
  {
   "cell_type": "code",
   "execution_count": 9,
   "id": "golden-european",
   "metadata": {},
   "outputs": [
    {
     "data": {
      "text/plain": [
       "Temparature    21\n",
       "Humidity       34\n",
       "Moisture       41\n",
       "Soil_Type       5\n",
       "Crop_Type      17\n",
       "Nitrogen       47\n",
       "Potassium      31\n",
       "Phosphorous    36\n",
       "Fertilizer     14\n",
       "dtype: int64"
      ]
     },
     "execution_count": 9,
     "metadata": {},
     "output_type": "execute_result"
    }
   ],
   "source": [
    "#checking unique values\n",
    "data.nunique()"
   ]
  },
  {
   "cell_type": "code",
   "execution_count": 10,
   "id": "suited-corner",
   "metadata": {},
   "outputs": [
    {
     "data": {
      "text/plain": [
       "Temparature    0\n",
       "Humidity       0\n",
       "Moisture       0\n",
       "Soil_Type      0\n",
       "Crop_Type      0\n",
       "Nitrogen       0\n",
       "Potassium      0\n",
       "Phosphorous    0\n",
       "Fertilizer     0\n",
       "dtype: int64"
      ]
     },
     "execution_count": 10,
     "metadata": {},
     "output_type": "execute_result"
    }
   ],
   "source": [
    "#checking for null values\n",
    "data.isna().sum()"
   ]
  },
  {
   "cell_type": "code",
   "execution_count": 11,
   "id": "ef93f6f9",
   "metadata": {},
   "outputs": [
    {
     "data": {
      "text/plain": [
       "array(['Urea', 'TSP', 'Superphosphate', 'Potassium sulfate.',\n",
       "       'Potassium chloride', 'DAP', '28-28', '20-20', '17-17-17',\n",
       "       '15-15-15', '14-35-14', '14-14-14', '10-26-26', '10-10-10'],\n",
       "      dtype=object)"
      ]
     },
     "execution_count": 11,
     "metadata": {},
     "output_type": "execute_result"
    }
   ],
   "source": [
    "data['Fertilizer'].unique()"
   ]
  },
  {
   "cell_type": "code",
   "execution_count": 12,
   "id": "7870a3ba",
   "metadata": {},
   "outputs": [
    {
     "data": {
      "text/plain": [
       "array(['Clayey', 'Loamy', 'Red', 'Black', 'Sandy'], dtype=object)"
      ]
     },
     "execution_count": 12,
     "metadata": {},
     "output_type": "execute_result"
    }
   ],
   "source": [
    "data['Soil_Type'].unique()"
   ]
  },
  {
   "cell_type": "code",
   "execution_count": 13,
   "id": "20a18be1",
   "metadata": {},
   "outputs": [
    {
     "data": {
      "text/plain": [
       "array(['rice', 'Wheat', 'Tobacco', 'Sugarcane', 'Pulses', 'pomegranate',\n",
       "       'Paddy', 'Oil seeds', 'Millets', 'Maize', 'Ground Nuts', 'Cotton',\n",
       "       'coffee', 'watermelon', 'Barley', 'kidneybeans', 'orange'],\n",
       "      dtype=object)"
      ]
     },
     "execution_count": 13,
     "metadata": {},
     "output_type": "execute_result"
    }
   ],
   "source": [
    "data['Crop_Type'].unique()"
   ]
  },
  {
   "cell_type": "code",
   "execution_count": 14,
   "id": "published-walnut",
   "metadata": {},
   "outputs": [
    {
     "data": {
      "application/vnd.microsoft.datawrangler.viewer.v0+json": {
       "columns": [
        {
         "name": "index",
         "rawType": "object",
         "type": "string"
        },
        {
         "name": "Temparature",
         "rawType": "float64",
         "type": "float"
        },
        {
         "name": "Humidity",
         "rawType": "float64",
         "type": "float"
        },
        {
         "name": "Moisture",
         "rawType": "float64",
         "type": "float"
        },
        {
         "name": "Soil_Type",
         "rawType": "object",
         "type": "unknown"
        },
        {
         "name": "Crop_Type",
         "rawType": "object",
         "type": "unknown"
        },
        {
         "name": "Nitrogen",
         "rawType": "float64",
         "type": "float"
        },
        {
         "name": "Potassium",
         "rawType": "float64",
         "type": "float"
        },
        {
         "name": "Phosphorous",
         "rawType": "float64",
         "type": "float"
        },
        {
         "name": "Fertilizer",
         "rawType": "object",
         "type": "unknown"
        }
       ],
       "conversionMethod": "pd.DataFrame",
       "ref": "46e74d89-8407-484b-87ca-19f5f8c947b0",
       "rows": [
        [
         "count",
         "552.0",
         "552.0",
         "552.0",
         "552",
         "552",
         "552.0",
         "552.0",
         "552.0",
         "552"
        ],
        [
         "unique",
         null,
         null,
         null,
         "5",
         "17",
         null,
         null,
         null,
         "14"
        ],
        [
         "top",
         null,
         null,
         null,
         "Loamy",
         "Cotton",
         null,
         null,
         null,
         "Urea"
        ],
        [
         "freq",
         null,
         null,
         null,
         "192",
         "64",
         null,
         null,
         null,
         "108"
        ],
        [
         "mean",
         "28.630434782608695",
         "64.55797101449275",
         "42.84057971014493",
         null,
         null,
         "28.52173913043478",
         "10.144927536231885",
         "21.115942028985508",
         null
        ],
        [
         "std",
         "5.088082352397325",
         "11.88023606427486",
         "11.507274667019873",
         null,
         null,
         "29.12198946937085",
         "13.45695603371985",
         "14.920514125213602",
         null
        ],
        [
         "min",
         "0.0",
         "50.0",
         "25.0",
         null,
         null,
         "0.0",
         "0.0",
         "0.0",
         null
        ],
        [
         "25%",
         "26.0",
         "54.0",
         "33.0",
         null,
         null,
         "10.0",
         "0.0",
         "8.0",
         null
        ],
        [
         "50%",
         "29.0",
         "62.0",
         "41.0",
         null,
         null,
         "15.0",
         "0.0",
         "20.0",
         null
        ],
        [
         "75%",
         "32.0",
         "68.0",
         "51.0",
         null,
         null,
         "37.0",
         "18.0",
         "36.0",
         null
        ],
        [
         "max",
         "38.0",
         "95.0",
         "65.0",
         null,
         null,
         "126.0",
         "59.0",
         "54.0",
         null
        ]
       ],
       "shape": {
        "columns": 9,
        "rows": 11
       }
      },
      "text/html": [
       "<div>\n",
       "<style scoped>\n",
       "    .dataframe tbody tr th:only-of-type {\n",
       "        vertical-align: middle;\n",
       "    }\n",
       "\n",
       "    .dataframe tbody tr th {\n",
       "        vertical-align: top;\n",
       "    }\n",
       "\n",
       "    .dataframe thead th {\n",
       "        text-align: right;\n",
       "    }\n",
       "</style>\n",
       "<table border=\"1\" class=\"dataframe\">\n",
       "  <thead>\n",
       "    <tr style=\"text-align: right;\">\n",
       "      <th></th>\n",
       "      <th>Temparature</th>\n",
       "      <th>Humidity</th>\n",
       "      <th>Moisture</th>\n",
       "      <th>Soil_Type</th>\n",
       "      <th>Crop_Type</th>\n",
       "      <th>Nitrogen</th>\n",
       "      <th>Potassium</th>\n",
       "      <th>Phosphorous</th>\n",
       "      <th>Fertilizer</th>\n",
       "    </tr>\n",
       "  </thead>\n",
       "  <tbody>\n",
       "    <tr>\n",
       "      <th>count</th>\n",
       "      <td>552.000000</td>\n",
       "      <td>552.000000</td>\n",
       "      <td>552.000000</td>\n",
       "      <td>552</td>\n",
       "      <td>552</td>\n",
       "      <td>552.000000</td>\n",
       "      <td>552.000000</td>\n",
       "      <td>552.000000</td>\n",
       "      <td>552</td>\n",
       "    </tr>\n",
       "    <tr>\n",
       "      <th>unique</th>\n",
       "      <td>NaN</td>\n",
       "      <td>NaN</td>\n",
       "      <td>NaN</td>\n",
       "      <td>5</td>\n",
       "      <td>17</td>\n",
       "      <td>NaN</td>\n",
       "      <td>NaN</td>\n",
       "      <td>NaN</td>\n",
       "      <td>14</td>\n",
       "    </tr>\n",
       "    <tr>\n",
       "      <th>top</th>\n",
       "      <td>NaN</td>\n",
       "      <td>NaN</td>\n",
       "      <td>NaN</td>\n",
       "      <td>Loamy</td>\n",
       "      <td>Cotton</td>\n",
       "      <td>NaN</td>\n",
       "      <td>NaN</td>\n",
       "      <td>NaN</td>\n",
       "      <td>Urea</td>\n",
       "    </tr>\n",
       "    <tr>\n",
       "      <th>freq</th>\n",
       "      <td>NaN</td>\n",
       "      <td>NaN</td>\n",
       "      <td>NaN</td>\n",
       "      <td>192</td>\n",
       "      <td>64</td>\n",
       "      <td>NaN</td>\n",
       "      <td>NaN</td>\n",
       "      <td>NaN</td>\n",
       "      <td>108</td>\n",
       "    </tr>\n",
       "    <tr>\n",
       "      <th>mean</th>\n",
       "      <td>28.630435</td>\n",
       "      <td>64.557971</td>\n",
       "      <td>42.840580</td>\n",
       "      <td>NaN</td>\n",
       "      <td>NaN</td>\n",
       "      <td>28.521739</td>\n",
       "      <td>10.144928</td>\n",
       "      <td>21.115942</td>\n",
       "      <td>NaN</td>\n",
       "    </tr>\n",
       "    <tr>\n",
       "      <th>std</th>\n",
       "      <td>5.088082</td>\n",
       "      <td>11.880236</td>\n",
       "      <td>11.507275</td>\n",
       "      <td>NaN</td>\n",
       "      <td>NaN</td>\n",
       "      <td>29.121989</td>\n",
       "      <td>13.456956</td>\n",
       "      <td>14.920514</td>\n",
       "      <td>NaN</td>\n",
       "    </tr>\n",
       "    <tr>\n",
       "      <th>min</th>\n",
       "      <td>0.000000</td>\n",
       "      <td>50.000000</td>\n",
       "      <td>25.000000</td>\n",
       "      <td>NaN</td>\n",
       "      <td>NaN</td>\n",
       "      <td>0.000000</td>\n",
       "      <td>0.000000</td>\n",
       "      <td>0.000000</td>\n",
       "      <td>NaN</td>\n",
       "    </tr>\n",
       "    <tr>\n",
       "      <th>25%</th>\n",
       "      <td>26.000000</td>\n",
       "      <td>54.000000</td>\n",
       "      <td>33.000000</td>\n",
       "      <td>NaN</td>\n",
       "      <td>NaN</td>\n",
       "      <td>10.000000</td>\n",
       "      <td>0.000000</td>\n",
       "      <td>8.000000</td>\n",
       "      <td>NaN</td>\n",
       "    </tr>\n",
       "    <tr>\n",
       "      <th>50%</th>\n",
       "      <td>29.000000</td>\n",
       "      <td>62.000000</td>\n",
       "      <td>41.000000</td>\n",
       "      <td>NaN</td>\n",
       "      <td>NaN</td>\n",
       "      <td>15.000000</td>\n",
       "      <td>0.000000</td>\n",
       "      <td>20.000000</td>\n",
       "      <td>NaN</td>\n",
       "    </tr>\n",
       "    <tr>\n",
       "      <th>75%</th>\n",
       "      <td>32.000000</td>\n",
       "      <td>68.000000</td>\n",
       "      <td>51.000000</td>\n",
       "      <td>NaN</td>\n",
       "      <td>NaN</td>\n",
       "      <td>37.000000</td>\n",
       "      <td>18.000000</td>\n",
       "      <td>36.000000</td>\n",
       "      <td>NaN</td>\n",
       "    </tr>\n",
       "    <tr>\n",
       "      <th>max</th>\n",
       "      <td>38.000000</td>\n",
       "      <td>95.000000</td>\n",
       "      <td>65.000000</td>\n",
       "      <td>NaN</td>\n",
       "      <td>NaN</td>\n",
       "      <td>126.000000</td>\n",
       "      <td>59.000000</td>\n",
       "      <td>54.000000</td>\n",
       "      <td>NaN</td>\n",
       "    </tr>\n",
       "  </tbody>\n",
       "</table>\n",
       "</div>"
      ],
      "text/plain": [
       "        Temparature    Humidity    Moisture Soil_Type Crop_Type    Nitrogen  \\\n",
       "count    552.000000  552.000000  552.000000       552       552  552.000000   \n",
       "unique          NaN         NaN         NaN         5        17         NaN   \n",
       "top             NaN         NaN         NaN     Loamy    Cotton         NaN   \n",
       "freq            NaN         NaN         NaN       192        64         NaN   \n",
       "mean      28.630435   64.557971   42.840580       NaN       NaN   28.521739   \n",
       "std        5.088082   11.880236   11.507275       NaN       NaN   29.121989   \n",
       "min        0.000000   50.000000   25.000000       NaN       NaN    0.000000   \n",
       "25%       26.000000   54.000000   33.000000       NaN       NaN   10.000000   \n",
       "50%       29.000000   62.000000   41.000000       NaN       NaN   15.000000   \n",
       "75%       32.000000   68.000000   51.000000       NaN       NaN   37.000000   \n",
       "max       38.000000   95.000000   65.000000       NaN       NaN  126.000000   \n",
       "\n",
       "         Potassium  Phosphorous Fertilizer  \n",
       "count   552.000000   552.000000        552  \n",
       "unique         NaN          NaN         14  \n",
       "top            NaN          NaN       Urea  \n",
       "freq           NaN          NaN        108  \n",
       "mean     10.144928    21.115942        NaN  \n",
       "std      13.456956    14.920514        NaN  \n",
       "min       0.000000     0.000000        NaN  \n",
       "25%       0.000000     8.000000        NaN  \n",
       "50%       0.000000    20.000000        NaN  \n",
       "75%      18.000000    36.000000        NaN  \n",
       "max      59.000000    54.000000        NaN  "
      ]
     },
     "execution_count": 14,
     "metadata": {},
     "output_type": "execute_result"
    }
   ],
   "source": [
    "#statistical parameters\n",
    "data.describe(include='all')"
   ]
  },
  {
   "cell_type": "code",
   "execution_count": 15,
   "id": "9b6f3365",
   "metadata": {},
   "outputs": [
    {
     "data": {
      "image/png": "[encoded data removed]",
      "text/plain": [
       "<Figure size 1300x500 with 1 Axes>"
      ]
     },
     "metadata": {},
     "output_type": "display_data"
    }
   ],
   "source": [
    "plt.figure(figsize=(13, 5))\n",
    "sns.set(style=\"whitegrid\")\n",
    "sns.countplot(data=data, x='Crop_Type')\n",
    "plt.title('Count Plot for Crop_Type')\n",
    "plt.xlabel('Crop_Type')\n",
    "plt.ylabel('Count')\n",
    "plt.show()"
   ]
  },
  {
   "cell_type": "code",
   "execution_count": 16,
   "id": "796fcc9f",
   "metadata": {},
   "outputs": [],
   "source": [
    "#The plot that shows the count (frequency) of each unique crop type in the dataset\n",
    "#The x-axis represents the different crop types.\n",
    "#The y-axis represents the count (the number of occurrences) of each crop type in the dataset"
   ]
  },
  {
   "cell_type": "code",
   "execution_count": 17,
   "id": "89ff4e98",
   "metadata": {},
   "outputs": [
    {
     "data": {
      "image/png": "[encoded data removed]",
      "text/plain": [
       "<Figure size 1000x400 with 1 Axes>"
      ]
     },
     "metadata": {},
     "output_type": "display_data"
    }
   ],
   "source": [
    "\n",
    "#first 4 crop types\n",
    "part1_data = data[data['Crop_Type'].isin(data['Crop_Type'].value_counts().index[:4])]\n",
    "\n",
    "# Create the first countplot\n",
    "plt.figure(figsize=(10, 4))\n",
    "sns.set(style=\"whitegrid\")\n",
    "sns.countplot(data=part1_data, x='Crop_Type', hue='Fertilizer', width=0.8, palette='Set2')\n",
    "plt.title('First 4 Crop Types')\n",
    "plt.xlabel('Crop_Type')\n",
    "plt.ylabel('Count')\n",
    "plt.legend(title='Fertilizer')\n",
    "plt.xticks(rotation=45, horizontalalignment='right')\n",
    "plt.tight_layout()\n",
    "plt.show()\n"
   ]
  },
  {
   "cell_type": "code",
   "execution_count": 18,
   "id": "b682e2b7",
   "metadata": {},
   "outputs": [
    {
     "data": {
      "image/png": "[encoded data removed]",
      "text/plain": [
       "<Figure size 800x400 with 1 Axes>"
      ]
     },
     "metadata": {},
     "output_type": "display_data"
    }
   ],
   "source": [
    "# Split the data into three parts: next 4 crop types\n",
    "part2_data = data[data['Crop_Type'].isin(data['Crop_Type'].value_counts().index[4:8])]\n",
    "\n",
    "# Create the second countplot\n",
    "plt.figure(figsize=(8, 4))\n",
    "sns.set(style=\"whitegrid\")\n",
    "sns.countplot(data=part2_data, x='Crop_Type', hue='Fertilizer', width=0.8, palette='Set2')\n",
    "plt.title('Next 4 Crop Types')\n",
    "plt.xlabel('Crop_Type')\n",
    "plt.ylabel('Count')\n",
    "plt.legend(title='Fertilizer')\n",
    "plt.xticks(rotation=45, horizontalalignment='right')\n",
    "plt.tight_layout()\n",
    "plt.show()\n"
   ]
  },
  {
   "cell_type": "code",
   "execution_count": 19,
   "id": "e669daee",
   "metadata": {},
   "outputs": [
    {
     "data": {
      "image/png": "[encoded data removed]",
      "text/plain": [
       "<Figure size 800x400 with 1 Axes>"
      ]
     },
     "metadata": {},
     "output_type": "display_data"
    }
   ],
   "source": [
    "# Split the data into three parts: remaining crop types\n",
    "part3_data = data[data['Crop_Type'].isin(data['Crop_Type'].value_counts().index[8:13])]\n",
    "\n",
    "# Create the third countplot\n",
    "plt.figure(figsize=(8, 4))\n",
    "sns.set(style=\"whitegrid\")\n",
    "sns.countplot(data=part3_data, x='Crop_Type', hue='Fertilizer', width=0.8, palette='Set2')\n",
    "plt.title('Remaining Crop Types')\n",
    "plt.xlabel('Crop_Type')\n",
    "plt.ylabel('Count')\n",
    "plt.legend(title='Fertilizer')\n",
    "plt.xticks(rotation=45, horizontalalignment='right')\n",
    "plt.tight_layout()\n",
    "plt.show()\n"
   ]
  },
  {
   "cell_type": "code",
   "execution_count": 20,
   "id": "280e8c08",
   "metadata": {},
   "outputs": [],
   "source": [
    "#  this plot is provides insights into how different crop types are distributed based on the type of fertilizer used.\n",
    "# The x-axis represents the different crop types.\n",
    "# The y-axis represents the count (the number of occurrences) of each crop type in the dataset."
   ]
  },
  {
   "cell_type": "code",
   "execution_count": 21,
   "id": "95215bab",
   "metadata": {},
   "outputs": [
    {
     "ename": "ValueError",
     "evalue": "could not convert string to float: 'Clayey'",
     "output_type": "error",
     "traceback": [
      "\u001b[31m---------------------------------------------------------------------------\u001b[39m",
      "\u001b[31mValueError\u001b[39m                                Traceback (most recent call last)",
      "\u001b[36mCell\u001b[39m\u001b[36m \u001b[39m\u001b[32mIn[21]\u001b[39m\u001b[32m, line 2\u001b[39m\n\u001b[32m      1\u001b[39m \u001b[38;5;66;03m#Heatmap for Correlation Analysis\u001b[39;00m\n\u001b[32m----> \u001b[39m\u001b[32m2\u001b[39m sns.heatmap(\u001b[43mdata\u001b[49m\u001b[43m.\u001b[49m\u001b[43mcorr\u001b[49m\u001b[43m(\u001b[49m\u001b[43m)\u001b[49m,annot=\u001b[38;5;28;01mTrue\u001b[39;00m)\n",
      "\u001b[36mFile \u001b[39m\u001b[32mc:\\Users\\sahas\\OneDrive\\Desktop\\CODING\\AgriTech\\.venv\\Lib\\site-packages\\pandas\\core\\frame.py:11049\u001b[39m, in \u001b[36mDataFrame.corr\u001b[39m\u001b[34m(self, method, min_periods, numeric_only)\u001b[39m\n\u001b[32m  11047\u001b[39m cols = data.columns\n\u001b[32m  11048\u001b[39m idx = cols.copy()\n\u001b[32m> \u001b[39m\u001b[32m11049\u001b[39m mat = \u001b[43mdata\u001b[49m\u001b[43m.\u001b[49m\u001b[43mto_numpy\u001b[49m\u001b[43m(\u001b[49m\u001b[43mdtype\u001b[49m\u001b[43m=\u001b[49m\u001b[38;5;28;43mfloat\u001b[39;49m\u001b[43m,\u001b[49m\u001b[43m \u001b[49m\u001b[43mna_value\u001b[49m\u001b[43m=\u001b[49m\u001b[43mnp\u001b[49m\u001b[43m.\u001b[49m\u001b[43mnan\u001b[49m\u001b[43m,\u001b[49m\u001b[43m \u001b[49m\u001b[43mcopy\u001b[49m\u001b[43m=\u001b[49m\u001b[38;5;28;43;01mFalse\u001b[39;49;00m\u001b[43m)\u001b[49m\n\u001b[32m  11051\u001b[39m \u001b[38;5;28;01mif\u001b[39;00m method == \u001b[33m\"\u001b[39m\u001b[33mpearson\u001b[39m\u001b[33m\"\u001b[39m:\n\u001b[32m  11052\u001b[39m     correl = libalgos.nancorr(mat, minp=min_periods)\n",
      "\u001b[36mFile \u001b[39m\u001b[32mc:\\Users\\sahas\\OneDrive\\Desktop\\CODING\\AgriTech\\.venv\\Lib\\site-packages\\pandas\\core\\frame.py:1993\u001b[39m, in \u001b[36mDataFrame.to_numpy\u001b[39m\u001b[34m(self, dtype, copy, na_value)\u001b[39m\n\u001b[32m   1991\u001b[39m \u001b[38;5;28;01mif\u001b[39;00m dtype \u001b[38;5;129;01mis\u001b[39;00m \u001b[38;5;129;01mnot\u001b[39;00m \u001b[38;5;28;01mNone\u001b[39;00m:\n\u001b[32m   1992\u001b[39m     dtype = np.dtype(dtype)\n\u001b[32m-> \u001b[39m\u001b[32m1993\u001b[39m result = \u001b[38;5;28;43mself\u001b[39;49m\u001b[43m.\u001b[49m\u001b[43m_mgr\u001b[49m\u001b[43m.\u001b[49m\u001b[43mas_array\u001b[49m\u001b[43m(\u001b[49m\u001b[43mdtype\u001b[49m\u001b[43m=\u001b[49m\u001b[43mdtype\u001b[49m\u001b[43m,\u001b[49m\u001b[43m \u001b[49m\u001b[43mcopy\u001b[49m\u001b[43m=\u001b[49m\u001b[43mcopy\u001b[49m\u001b[43m,\u001b[49m\u001b[43m \u001b[49m\u001b[43mna_value\u001b[49m\u001b[43m=\u001b[49m\u001b[43mna_value\u001b[49m\u001b[43m)\u001b[49m\n\u001b[32m   1994\u001b[39m \u001b[38;5;28;01mif\u001b[39;00m result.dtype \u001b[38;5;129;01mis\u001b[39;00m \u001b[38;5;129;01mnot\u001b[39;00m dtype:\n\u001b[32m   1995\u001b[39m     result = np.asarray(result, dtype=dtype)\n",
      "\u001b[36mFile \u001b[39m\u001b[32mc:\\Users\\sahas\\OneDrive\\Desktop\\CODING\\AgriTech\\.venv\\Lib\\site-packages\\pandas\\core\\internals\\managers.py:1694\u001b[39m, in \u001b[36mBlockManager.as_array\u001b[39m\u001b[34m(self, dtype, copy, na_value)\u001b[39m\n\u001b[32m   1692\u001b[39m         arr.flags.writeable = \u001b[38;5;28;01mFalse\u001b[39;00m\n\u001b[32m   1693\u001b[39m \u001b[38;5;28;01melse\u001b[39;00m:\n\u001b[32m-> \u001b[39m\u001b[32m1694\u001b[39m     arr = \u001b[38;5;28;43mself\u001b[39;49m\u001b[43m.\u001b[49m\u001b[43m_interleave\u001b[49m\u001b[43m(\u001b[49m\u001b[43mdtype\u001b[49m\u001b[43m=\u001b[49m\u001b[43mdtype\u001b[49m\u001b[43m,\u001b[49m\u001b[43m \u001b[49m\u001b[43mna_value\u001b[49m\u001b[43m=\u001b[49m\u001b[43mna_value\u001b[49m\u001b[43m)\u001b[49m\n\u001b[32m   1695\u001b[39m     \u001b[38;5;66;03m# The underlying data was copied within _interleave, so no need\u001b[39;00m\n\u001b[32m   1696\u001b[39m     \u001b[38;5;66;03m# to further copy if copy=True or setting na_value\u001b[39;00m\n\u001b[32m   1698\u001b[39m \u001b[38;5;28;01mif\u001b[39;00m na_value \u001b[38;5;129;01mis\u001b[39;00m lib.no_default:\n",
      "\u001b[36mFile \u001b[39m\u001b[32mc:\\Users\\sahas\\OneDrive\\Desktop\\CODING\\AgriTech\\.venv\\Lib\\site-packages\\pandas\\core\\internals\\managers.py:1753\u001b[39m, in \u001b[36mBlockManager._interleave\u001b[39m\u001b[34m(self, dtype, na_value)\u001b[39m\n\u001b[32m   1751\u001b[39m     \u001b[38;5;28;01melse\u001b[39;00m:\n\u001b[32m   1752\u001b[39m         arr = blk.get_values(dtype)\n\u001b[32m-> \u001b[39m\u001b[32m1753\u001b[39m     \u001b[43mresult\u001b[49m\u001b[43m[\u001b[49m\u001b[43mrl\u001b[49m\u001b[43m.\u001b[49m\u001b[43mindexer\u001b[49m\u001b[43m]\u001b[49m = arr\n\u001b[32m   1754\u001b[39m     itemmask[rl.indexer] = \u001b[32m1\u001b[39m\n\u001b[32m   1756\u001b[39m \u001b[38;5;28;01mif\u001b[39;00m \u001b[38;5;129;01mnot\u001b[39;00m itemmask.all():\n",
      "\u001b[31mValueError\u001b[39m: could not convert string to float: 'Clayey'"
     ]
    }
   ],
   "source": [
    "#Heatmap for Correlation Analysis\n",
    "sns.heatmap(data.corr(),annot=True)"
   ]
  },
  {
   "cell_type": "code",
   "execution_count": 22,
   "id": "c5994e93",
   "metadata": {},
   "outputs": [],
   "source": [
    "#here is no such correlation between any of variables.. "
   ]
  },
  {
   "cell_type": "code",
   "execution_count": 23,
   "id": "rotary-november",
   "metadata": {},
   "outputs": [],
   "source": [
    "#encoding the labels for categorical variables\n",
    "from sklearn.preprocessing import LabelEncoder\n",
    "#it  transforming non-numeric data into a numeric format"
   ]
  },
  {
   "cell_type": "code",
   "execution_count": null,
   "id": "df0c5348",
   "metadata": {},
   "outputs": [],
   "source": []
  },
  {
   "cell_type": "code",
   "execution_count": 24,
   "id": "chief-junior",
   "metadata": {},
   "outputs": [
    {
     "data": {
      "application/vnd.microsoft.datawrangler.viewer.v0+json": {
       "columns": [
        {
         "name": "Original",
         "rawType": "object",
         "type": "string"
        },
        {
         "name": "Encoded",
         "rawType": "int64",
         "type": "integer"
        }
       ],
       "conversionMethod": "pd.DataFrame",
       "ref": "f7031b26-6376-424b-b39f-6087148c2024",
       "rows": [
        [
         "Black",
         "0"
        ],
        [
         "Clayey",
         "1"
        ],
        [
         "Loamy",
         "2"
        ],
        [
         "Red",
         "3"
        ],
        [
         "Sandy",
         "4"
        ]
       ],
       "shape": {
        "columns": 1,
        "rows": 5
       }
      },
      "text/html": [
       "<div>\n",
       "<style scoped>\n",
       "    .dataframe tbody tr th:only-of-type {\n",
       "        vertical-align: middle;\n",
       "    }\n",
       "\n",
       "    .dataframe tbody tr th {\n",
       "        vertical-align: top;\n",
       "    }\n",
       "\n",
       "    .dataframe thead th {\n",
       "        text-align: right;\n",
       "    }\n",
       "</style>\n",
       "<table border=\"1\" class=\"dataframe\">\n",
       "  <thead>\n",
       "    <tr style=\"text-align: right;\">\n",
       "      <th></th>\n",
       "      <th>Encoded</th>\n",
       "    </tr>\n",
       "    <tr>\n",
       "      <th>Original</th>\n",
       "      <th></th>\n",
       "    </tr>\n",
       "  </thead>\n",
       "  <tbody>\n",
       "    <tr>\n",
       "      <th>Black</th>\n",
       "      <td>0</td>\n",
       "    </tr>\n",
       "    <tr>\n",
       "      <th>Clayey</th>\n",
       "      <td>1</td>\n",
       "    </tr>\n",
       "    <tr>\n",
       "      <th>Loamy</th>\n",
       "      <td>2</td>\n",
       "    </tr>\n",
       "    <tr>\n",
       "      <th>Red</th>\n",
       "      <td>3</td>\n",
       "    </tr>\n",
       "    <tr>\n",
       "      <th>Sandy</th>\n",
       "      <td>4</td>\n",
       "    </tr>\n",
       "  </tbody>\n",
       "</table>\n",
       "</div>"
      ],
      "text/plain": [
       "          Encoded\n",
       "Original         \n",
       "Black           0\n",
       "Clayey          1\n",
       "Loamy           2\n",
       "Red             3\n",
       "Sandy           4"
      ]
     },
     "execution_count": 24,
     "metadata": {},
     "output_type": "execute_result"
    }
   ],
   "source": [
    "#encoding Soil Type variable\n",
    "encode_soil = LabelEncoder()\n",
    "\n",
    "#fitting the label encoder\n",
    "data.Soil_Type = encode_soil.fit_transform(data.Soil_Type)\n",
    "\n",
    "#creating the DataFrame\n",
    "Soil_Type = pd.DataFrame(zip(encode_soil.classes_,encode_soil.transform(encode_soil.classes_)),columns=['Original','Encoded'])\n",
    "Soil_Type = Soil_Type.set_index('Original')\n",
    "Soil_Type"
   ]
  },
  {
   "cell_type": "code",
   "execution_count": 25,
   "id": "parental-offset",
   "metadata": {},
   "outputs": [
    {
     "data": {
      "application/vnd.microsoft.datawrangler.viewer.v0+json": {
       "columns": [
        {
         "name": "Original",
         "rawType": "object",
         "type": "string"
        },
        {
         "name": "Encoded",
         "rawType": "int64",
         "type": "integer"
        }
       ],
       "conversionMethod": "pd.DataFrame",
       "ref": "9488f128-255d-4079-9d4f-6557300c886e",
       "rows": [
        [
         "Barley",
         "0"
        ],
        [
         "Cotton",
         "1"
        ],
        [
         "Ground Nuts",
         "2"
        ],
        [
         "Maize",
         "3"
        ],
        [
         "Millets",
         "4"
        ],
        [
         "Oil seeds",
         "5"
        ],
        [
         "Paddy",
         "6"
        ],
        [
         "Pulses",
         "7"
        ],
        [
         "Sugarcane",
         "8"
        ],
        [
         "Tobacco",
         "9"
        ],
        [
         "Wheat",
         "10"
        ],
        [
         "coffee",
         "11"
        ],
        [
         "kidneybeans",
         "12"
        ],
        [
         "orange",
         "13"
        ],
        [
         "pomegranate",
         "14"
        ],
        [
         "rice",
         "15"
        ],
        [
         "watermelon",
         "16"
        ]
       ],
       "shape": {
        "columns": 1,
        "rows": 17
       }
      },
      "text/html": [
       "<div>\n",
       "<style scoped>\n",
       "    .dataframe tbody tr th:only-of-type {\n",
       "        vertical-align: middle;\n",
       "    }\n",
       "\n",
       "    .dataframe tbody tr th {\n",
       "        vertical-align: top;\n",
       "    }\n",
       "\n",
       "    .dataframe thead th {\n",
       "        text-align: right;\n",
       "    }\n",
       "</style>\n",
       "<table border=\"1\" class=\"dataframe\">\n",
       "  <thead>\n",
       "    <tr style=\"text-align: right;\">\n",
       "      <th></th>\n",
       "      <th>Encoded</th>\n",
       "    </tr>\n",
       "    <tr>\n",
       "      <th>Original</th>\n",
       "      <th></th>\n",
       "    </tr>\n",
       "  </thead>\n",
       "  <tbody>\n",
       "    <tr>\n",
       "      <th>Barley</th>\n",
       "      <td>0</td>\n",
       "    </tr>\n",
       "    <tr>\n",
       "      <th>Cotton</th>\n",
       "      <td>1</td>\n",
       "    </tr>\n",
       "    <tr>\n",
       "      <th>Ground Nuts</th>\n",
       "      <td>2</td>\n",
       "    </tr>\n",
       "    <tr>\n",
       "      <th>Maize</th>\n",
       "      <td>3</td>\n",
       "    </tr>\n",
       "    <tr>\n",
       "      <th>Millets</th>\n",
       "      <td>4</td>\n",
       "    </tr>\n",
       "    <tr>\n",
       "      <th>Oil seeds</th>\n",
       "      <td>5</td>\n",
       "    </tr>\n",
       "    <tr>\n",
       "      <th>Paddy</th>\n",
       "      <td>6</td>\n",
       "    </tr>\n",
       "    <tr>\n",
       "      <th>Pulses</th>\n",
       "      <td>7</td>\n",
       "    </tr>\n",
       "    <tr>\n",
       "      <th>Sugarcane</th>\n",
       "      <td>8</td>\n",
       "    </tr>\n",
       "    <tr>\n",
       "      <th>Tobacco</th>\n",
       "      <td>9</td>\n",
       "    </tr>\n",
       "    <tr>\n",
       "      <th>Wheat</th>\n",
       "      <td>10</td>\n",
       "    </tr>\n",
       "    <tr>\n",
       "      <th>coffee</th>\n",
       "      <td>11</td>\n",
       "    </tr>\n",
       "    <tr>\n",
       "      <th>kidneybeans</th>\n",
       "      <td>12</td>\n",
       "    </tr>\n",
       "    <tr>\n",
       "      <th>orange</th>\n",
       "      <td>13</td>\n",
       "    </tr>\n",
       "    <tr>\n",
       "      <th>pomegranate</th>\n",
       "      <td>14</td>\n",
       "    </tr>\n",
       "    <tr>\n",
       "      <th>rice</th>\n",
       "      <td>15</td>\n",
       "    </tr>\n",
       "    <tr>\n",
       "      <th>watermelon</th>\n",
       "      <td>16</td>\n",
       "    </tr>\n",
       "  </tbody>\n",
       "</table>\n",
       "</div>"
      ],
      "text/plain": [
       "             Encoded\n",
       "Original            \n",
       "Barley             0\n",
       "Cotton             1\n",
       "Ground Nuts        2\n",
       "Maize              3\n",
       "Millets            4\n",
       "Oil seeds          5\n",
       "Paddy              6\n",
       "Pulses             7\n",
       "Sugarcane          8\n",
       "Tobacco            9\n",
       "Wheat             10\n",
       "coffee            11\n",
       "kidneybeans       12\n",
       "orange            13\n",
       "pomegranate       14\n",
       "rice              15\n",
       "watermelon        16"
      ]
     },
     "execution_count": 25,
     "metadata": {},
     "output_type": "execute_result"
    }
   ],
   "source": [
    "#encoding Crop Type variable\n",
    "encode_crop = LabelEncoder()\n",
    "\n",
    "#fitting the label encoder\n",
    "data.Crop_Type = encode_crop.fit_transform(data.Crop_Type)\n",
    "\n",
    "#creating the DataFrame\n",
    "Crop_Type = pd.DataFrame(zip(encode_crop.classes_,encode_crop.transform(encode_crop.classes_)),columns=['Original','Encoded'])\n",
    "Crop_Type = Crop_Type.set_index('Original')\n",
    "Crop_Type"
   ]
  },
  {
   "cell_type": "code",
   "execution_count": 26,
   "id": "organic-oakland",
   "metadata": {},
   "outputs": [
    {
     "data": {
      "application/vnd.microsoft.datawrangler.viewer.v0+json": {
       "columns": [
        {
         "name": "Original",
         "rawType": "object",
         "type": "string"
        },
        {
         "name": "Encoded",
         "rawType": "int64",
         "type": "integer"
        }
       ],
       "conversionMethod": "pd.DataFrame",
       "ref": "f618722e-ae71-4cfa-9226-4c19177c895e",
       "rows": [
        [
         "10-10-10",
         "0"
        ],
        [
         "10-26-26",
         "1"
        ],
        [
         "14-14-14",
         "2"
        ],
        [
         "14-35-14",
         "3"
        ],
        [
         "15-15-15",
         "4"
        ],
        [
         "17-17-17",
         "5"
        ],
        [
         "20-20",
         "6"
        ],
        [
         "28-28",
         "7"
        ],
        [
         "DAP",
         "8"
        ],
        [
         "Potassium chloride",
         "9"
        ],
        [
         "Potassium sulfate.",
         "10"
        ],
        [
         "Superphosphate",
         "11"
        ],
        [
         "TSP",
         "12"
        ],
        [
         "Urea",
         "13"
        ]
       ],
       "shape": {
        "columns": 1,
        "rows": 14
       }
      },
      "text/html": [
       "<div>\n",
       "<style scoped>\n",
       "    .dataframe tbody tr th:only-of-type {\n",
       "        vertical-align: middle;\n",
       "    }\n",
       "\n",
       "    .dataframe tbody tr th {\n",
       "        vertical-align: top;\n",
       "    }\n",
       "\n",
       "    .dataframe thead th {\n",
       "        text-align: right;\n",
       "    }\n",
       "</style>\n",
       "<table border=\"1\" class=\"dataframe\">\n",
       "  <thead>\n",
       "    <tr style=\"text-align: right;\">\n",
       "      <th></th>\n",
       "      <th>Encoded</th>\n",
       "    </tr>\n",
       "    <tr>\n",
       "      <th>Original</th>\n",
       "      <th></th>\n",
       "    </tr>\n",
       "  </thead>\n",
       "  <tbody>\n",
       "    <tr>\n",
       "      <th>10-10-10</th>\n",
       "      <td>0</td>\n",
       "    </tr>\n",
       "    <tr>\n",
       "      <th>10-26-26</th>\n",
       "      <td>1</td>\n",
       "    </tr>\n",
       "    <tr>\n",
       "      <th>14-14-14</th>\n",
       "      <td>2</td>\n",
       "    </tr>\n",
       "    <tr>\n",
       "      <th>14-35-14</th>\n",
       "      <td>3</td>\n",
       "    </tr>\n",
       "    <tr>\n",
       "      <th>15-15-15</th>\n",
       "      <td>4</td>\n",
       "    </tr>\n",
       "    <tr>\n",
       "      <th>17-17-17</th>\n",
       "      <td>5</td>\n",
       "    </tr>\n",
       "    <tr>\n",
       "      <th>20-20</th>\n",
       "      <td>6</td>\n",
       "    </tr>\n",
       "    <tr>\n",
       "      <th>28-28</th>\n",
       "      <td>7</td>\n",
       "    </tr>\n",
       "    <tr>\n",
       "      <th>DAP</th>\n",
       "      <td>8</td>\n",
       "    </tr>\n",
       "    <tr>\n",
       "      <th>Potassium chloride</th>\n",
       "      <td>9</td>\n",
       "    </tr>\n",
       "    <tr>\n",
       "      <th>Potassium sulfate.</th>\n",
       "      <td>10</td>\n",
       "    </tr>\n",
       "    <tr>\n",
       "      <th>Superphosphate</th>\n",
       "      <td>11</td>\n",
       "    </tr>\n",
       "    <tr>\n",
       "      <th>TSP</th>\n",
       "      <td>12</td>\n",
       "    </tr>\n",
       "    <tr>\n",
       "      <th>Urea</th>\n",
       "      <td>13</td>\n",
       "    </tr>\n",
       "  </tbody>\n",
       "</table>\n",
       "</div>"
      ],
      "text/plain": [
       "                    Encoded\n",
       "Original                   \n",
       "10-10-10                  0\n",
       "10-26-26                  1\n",
       "14-14-14                  2\n",
       "14-35-14                  3\n",
       "15-15-15                  4\n",
       "17-17-17                  5\n",
       "20-20                     6\n",
       "28-28                     7\n",
       "DAP                       8\n",
       "Potassium chloride        9\n",
       "Potassium sulfate.       10\n",
       "Superphosphate           11\n",
       "TSP                      12\n",
       "Urea                     13"
      ]
     },
     "execution_count": 26,
     "metadata": {},
     "output_type": "execute_result"
    }
   ],
   "source": [
    "#encoding Fertilizer variable\n",
    "encode_ferti = LabelEncoder()\n",
    "\n",
    "\n",
    "#fitting the label encoder\n",
    "data.Fertilizer = encode_ferti.fit_transform(data.Fertilizer)\n",
    "\n",
    "#creating the DataFrame\n",
    "Fertilizer = pd.DataFrame(zip(encode_ferti.classes_,encode_ferti.transform(encode_ferti.classes_)),columns=['Original','Encoded'])\n",
    "Fertilizer = Fertilizer.set_index('Original')\n",
    "Fertilizer"
   ]
  },
  {
   "cell_type": "code",
   "execution_count": 27,
   "id": "forced-activation",
   "metadata": {},
   "outputs": [
    {
     "name": "stdout",
     "output_type": "stream",
     "text": [
      "Shape of Splitting :\n",
      "x_train = (441, 8), y_train = (441,), x_test = (111, 8), y_test = (111,)\n"
     ]
    }
   ],
   "source": [
    "#splitting the data into train and test\n",
    "from sklearn.model_selection import train_test_split\n",
    "\n",
    "x_train, x_test, y_train, y_test = train_test_split(data.drop('Fertilizer',axis=1),data.Fertilizer,test_size=0.2,random_state=1)\n",
    "print('Shape of Splitting :')\n",
    "print('x_train = {}, y_train = {}, x_test = {}, y_test = {}'.format(x_train.shape,y_train.shape,x_test.shape,y_test.shape))"
   ]
  },
  {
   "cell_type": "code",
   "execution_count": 28,
   "id": "7f09b733",
   "metadata": {},
   "outputs": [],
   "source": [
    "# here 20% of the data should be used for testing (evaluation), and the remaining 80% is used for training\n",
    "#x_train and x_test = contain the features (independent variables) used for training and testing the model\n",
    "#y_train and y_test = contains the labels(dependent variable) used for training and testing the model."
   ]
  },
  {
   "cell_type": "code",
   "execution_count": 29,
   "id": "handy-mortality",
   "metadata": {},
   "outputs": [
    {
     "name": "stdout",
     "output_type": "stream",
     "text": [
      "<class 'pandas.core.frame.DataFrame'>\n",
      "Index: 441 entries, 213 to 37\n",
      "Data columns (total 8 columns):\n",
      " #   Column       Non-Null Count  Dtype\n",
      "---  ------       --------------  -----\n",
      " 0   Temparature  441 non-null    int64\n",
      " 1   Humidity     441 non-null    int64\n",
      " 2   Moisture     441 non-null    int64\n",
      " 3   Soil_Type    441 non-null    int64\n",
      " 4   Crop_Type    441 non-null    int64\n",
      " 5   Nitrogen     441 non-null    int64\n",
      " 6   Potassium    441 non-null    int64\n",
      " 7   Phosphorous  441 non-null    int64\n",
      "dtypes: int64(8)\n",
      "memory usage: 31.0 KB\n"
     ]
    }
   ],
   "source": [
    "x_train.info()"
   ]
  },
  {
   "cell_type": "code",
   "execution_count": 30,
   "id": "199e370e",
   "metadata": {},
   "outputs": [],
   "source": [
    "acc = [] # TEST\n",
    "model = []\n",
    "acc1=[] # TRIAN"
   ]
  },
  {
   "cell_type": "markdown",
   "id": "alleged-lemon",
   "metadata": {},
   "source": [
    "### Logistic regression model"
   ]
  },
  {
   "cell_type": "code",
   "execution_count": 31,
   "id": "finnish-killer",
   "metadata": {},
   "outputs": [
    {
     "name": "stdout",
     "output_type": "stream",
     "text": [
      "DecisionTrees's Accuracy is:  90.09009009009009 93.42403628117914\n"
     ]
    },
    {
     "ename": "ValueError",
     "evalue": "Found input variables with inconsistent numbers of samples: [111, 441]",
     "output_type": "error",
     "traceback": [
      "\u001b[31m---------------------------------------------------------------------------\u001b[39m",
      "\u001b[31mValueError\u001b[39m                                Traceback (most recent call last)",
      "\u001b[36mCell\u001b[39m\u001b[36m \u001b[39m\u001b[32mIn[31]\u001b[39m\u001b[32m, line 23\u001b[39m\n\u001b[32m     19\u001b[39m acc1.append(y)\n\u001b[32m     21\u001b[39m \u001b[38;5;28mprint\u001b[39m(\u001b[33m\"\u001b[39m\u001b[33mDecisionTrees\u001b[39m\u001b[33m'\u001b[39m\u001b[33ms Accuracy is: \u001b[39m\u001b[33m\"\u001b[39m, x*\u001b[32m100\u001b[39m, y*\u001b[32m100\u001b[39m)\n\u001b[32m---> \u001b[39m\u001b[32m23\u001b[39m \u001b[38;5;28mprint\u001b[39m(\u001b[43mclassification_report\u001b[49m\u001b[43m(\u001b[49m\u001b[43my_test\u001b[49m\u001b[43m,\u001b[49m\u001b[43mpredicted_values\u001b[49m\u001b[43m)\u001b[49m)\n",
      "\u001b[36mFile \u001b[39m\u001b[32mc:\\Users\\sahas\\OneDrive\\Desktop\\CODING\\AgriTech\\.venv\\Lib\\site-packages\\sklearn\\utils\\_param_validation.py:216\u001b[39m, in \u001b[36mvalidate_params.<locals>.decorator.<locals>.wrapper\u001b[39m\u001b[34m(*args, **kwargs)\u001b[39m\n\u001b[32m    210\u001b[39m \u001b[38;5;28;01mtry\u001b[39;00m:\n\u001b[32m    211\u001b[39m     \u001b[38;5;28;01mwith\u001b[39;00m config_context(\n\u001b[32m    212\u001b[39m         skip_parameter_validation=(\n\u001b[32m    213\u001b[39m             prefer_skip_nested_validation \u001b[38;5;129;01mor\u001b[39;00m global_skip_validation\n\u001b[32m    214\u001b[39m         )\n\u001b[32m    215\u001b[39m     ):\n\u001b[32m--> \u001b[39m\u001b[32m216\u001b[39m         \u001b[38;5;28;01mreturn\u001b[39;00m \u001b[43mfunc\u001b[49m\u001b[43m(\u001b[49m\u001b[43m*\u001b[49m\u001b[43margs\u001b[49m\u001b[43m,\u001b[49m\u001b[43m \u001b[49m\u001b[43m*\u001b[49m\u001b[43m*\u001b[49m\u001b[43mkwargs\u001b[49m\u001b[43m)\u001b[49m\n\u001b[32m    217\u001b[39m \u001b[38;5;28;01mexcept\u001b[39;00m InvalidParameterError \u001b[38;5;28;01mas\u001b[39;00m e:\n\u001b[32m    218\u001b[39m     \u001b[38;5;66;03m# When the function is just a wrapper around an estimator, we allow\u001b[39;00m\n\u001b[32m    219\u001b[39m     \u001b[38;5;66;03m# the function to delegate validation to the estimator, but we replace\u001b[39;00m\n\u001b[32m    220\u001b[39m     \u001b[38;5;66;03m# the name of the estimator by the name of the function in the error\u001b[39;00m\n\u001b[32m    221\u001b[39m     \u001b[38;5;66;03m# message to avoid confusion.\u001b[39;00m\n\u001b[32m    222\u001b[39m     msg = re.sub(\n\u001b[32m    223\u001b[39m         \u001b[33mr\u001b[39m\u001b[33m\"\u001b[39m\u001b[33mparameter of \u001b[39m\u001b[33m\\\u001b[39m\u001b[33mw+ must be\u001b[39m\u001b[33m\"\u001b[39m,\n\u001b[32m    224\u001b[39m         \u001b[33mf\u001b[39m\u001b[33m\"\u001b[39m\u001b[33mparameter of \u001b[39m\u001b[38;5;132;01m{\u001b[39;00mfunc.\u001b[34m__qualname__\u001b[39m\u001b[38;5;132;01m}\u001b[39;00m\u001b[33m must be\u001b[39m\u001b[33m\"\u001b[39m,\n\u001b[32m    225\u001b[39m         \u001b[38;5;28mstr\u001b[39m(e),\n\u001b[32m    226\u001b[39m     )\n",
      "\u001b[36mFile \u001b[39m\u001b[32mc:\\Users\\sahas\\OneDrive\\Desktop\\CODING\\AgriTech\\.venv\\Lib\\site-packages\\sklearn\\metrics\\_classification.py:2671\u001b[39m, in \u001b[36mclassification_report\u001b[39m\u001b[34m(y_true, y_pred, labels, target_names, sample_weight, digits, output_dict, zero_division)\u001b[39m\n\u001b[32m   2563\u001b[39m \u001b[38;5;250m\u001b[39m\u001b[33;03m\"\"\"Build a text report showing the main classification metrics.\u001b[39;00m\n\u001b[32m   2564\u001b[39m \n\u001b[32m   2565\u001b[39m \u001b[33;03mRead more in the :ref:`User Guide <classification_report>`.\u001b[39;00m\n\u001b[32m   (...)\u001b[39m\u001b[32m   2667\u001b[39m \u001b[33;03m<BLANKLINE>\u001b[39;00m\n\u001b[32m   2668\u001b[39m \u001b[33;03m\"\"\"\u001b[39;00m\n\u001b[32m   2670\u001b[39m y_true, y_pred = attach_unique(y_true, y_pred)\n\u001b[32m-> \u001b[39m\u001b[32m2671\u001b[39m y_type, y_true, y_pred = \u001b[43m_check_targets\u001b[49m\u001b[43m(\u001b[49m\u001b[43my_true\u001b[49m\u001b[43m,\u001b[49m\u001b[43m \u001b[49m\u001b[43my_pred\u001b[49m\u001b[43m)\u001b[49m\n\u001b[32m   2673\u001b[39m \u001b[38;5;28;01mif\u001b[39;00m labels \u001b[38;5;129;01mis\u001b[39;00m \u001b[38;5;28;01mNone\u001b[39;00m:\n\u001b[32m   2674\u001b[39m     labels = unique_labels(y_true, y_pred)\n",
      "\u001b[36mFile \u001b[39m\u001b[32mc:\\Users\\sahas\\OneDrive\\Desktop\\CODING\\AgriTech\\.venv\\Lib\\site-packages\\sklearn\\metrics\\_classification.py:98\u001b[39m, in \u001b[36m_check_targets\u001b[39m\u001b[34m(y_true, y_pred)\u001b[39m\n\u001b[32m     71\u001b[39m \u001b[38;5;250m\u001b[39m\u001b[33;03m\"\"\"Check that y_true and y_pred belong to the same classification task.\u001b[39;00m\n\u001b[32m     72\u001b[39m \n\u001b[32m     73\u001b[39m \u001b[33;03mThis converts multiclass or binary types to a common shape, and raises a\u001b[39;00m\n\u001b[32m   (...)\u001b[39m\u001b[32m     95\u001b[39m \u001b[33;03my_pred : array or indicator matrix\u001b[39;00m\n\u001b[32m     96\u001b[39m \u001b[33;03m\"\"\"\u001b[39;00m\n\u001b[32m     97\u001b[39m xp, _ = get_namespace(y_true, y_pred)\n\u001b[32m---> \u001b[39m\u001b[32m98\u001b[39m \u001b[43mcheck_consistent_length\u001b[49m\u001b[43m(\u001b[49m\u001b[43my_true\u001b[49m\u001b[43m,\u001b[49m\u001b[43m \u001b[49m\u001b[43my_pred\u001b[49m\u001b[43m)\u001b[49m\n\u001b[32m     99\u001b[39m type_true = type_of_target(y_true, input_name=\u001b[33m\"\u001b[39m\u001b[33my_true\u001b[39m\u001b[33m\"\u001b[39m)\n\u001b[32m    100\u001b[39m type_pred = type_of_target(y_pred, input_name=\u001b[33m\"\u001b[39m\u001b[33my_pred\u001b[39m\u001b[33m\"\u001b[39m)\n",
      "\u001b[36mFile \u001b[39m\u001b[32mc:\\Users\\sahas\\OneDrive\\Desktop\\CODING\\AgriTech\\.venv\\Lib\\site-packages\\sklearn\\utils\\validation.py:475\u001b[39m, in \u001b[36mcheck_consistent_length\u001b[39m\u001b[34m(*arrays)\u001b[39m\n\u001b[32m    473\u001b[39m uniques = np.unique(lengths)\n\u001b[32m    474\u001b[39m \u001b[38;5;28;01mif\u001b[39;00m \u001b[38;5;28mlen\u001b[39m(uniques) > \u001b[32m1\u001b[39m:\n\u001b[32m--> \u001b[39m\u001b[32m475\u001b[39m     \u001b[38;5;28;01mraise\u001b[39;00m \u001b[38;5;167;01mValueError\u001b[39;00m(\n\u001b[32m    476\u001b[39m         \u001b[33m\"\u001b[39m\u001b[33mFound input variables with inconsistent numbers of samples: \u001b[39m\u001b[38;5;132;01m%r\u001b[39;00m\u001b[33m\"\u001b[39m\n\u001b[32m    477\u001b[39m         % [\u001b[38;5;28mint\u001b[39m(l) \u001b[38;5;28;01mfor\u001b[39;00m l \u001b[38;5;129;01min\u001b[39;00m lengths]\n\u001b[32m    478\u001b[39m     )\n",
      "\u001b[31mValueError\u001b[39m: Found input variables with inconsistent numbers of samples: [111, 441]"
     ]
    }
   ],
   "source": [
    "#importing libraries\n",
    "from sklearn.tree import DecisionTreeClassifier\n",
    "from sklearn.metrics import classification_report\n",
    "from sklearn import metrics\n",
    "from sklearn import tree\n",
    "import warnings\n",
    "warnings.filterwarnings('ignore')\n",
    "\n",
    "ds = DecisionTreeClassifier(criterion=\"entropy\",random_state=2,max_depth=5)\n",
    "ds.fit(x_train,y_train)\n",
    "\n",
    "predicted_values = ds.predict(x_test)\n",
    "x = metrics.accuracy_score(y_test, predicted_values)\n",
    "acc.append(x)\n",
    "model.append('Decision Tree')\n",
    "\n",
    "predicted_values = ds.predict(x_train)\n",
    "y = metrics.accuracy_score(y_train, predicted_values)\n",
    "acc1.append(y)\n",
    "\n",
    "print(\"DecisionTrees's Accuracy is: \", x*100, y*100)\n",
    "\n",
    "print(classification_report(y_test,predicted_values))"
   ]
  },
  {
   "cell_type": "code",
   "execution_count": 32,
   "id": "rising-tender",
   "metadata": {},
   "outputs": [
    {
     "name": "stdout",
     "output_type": "stream",
     "text": [
      "Naive Bayes's Accuracy is:  0.9459459459459459 0.9138321995464853\n"
     ]
    },
    {
     "ename": "ValueError",
     "evalue": "Found input variables with inconsistent numbers of samples: [111, 441]",
     "output_type": "error",
     "traceback": [
      "\u001b[31m---------------------------------------------------------------------------\u001b[39m",
      "\u001b[31mValueError\u001b[39m                                Traceback (most recent call last)",
      "\u001b[36mCell\u001b[39m\u001b[36m \u001b[39m\u001b[32mIn[32]\u001b[39m\u001b[32m, line 18\u001b[39m\n\u001b[32m     15\u001b[39m model.append(\u001b[33m'\u001b[39m\u001b[33mNaive Bayes\u001b[39m\u001b[33m'\u001b[39m)\n\u001b[32m     16\u001b[39m \u001b[38;5;28mprint\u001b[39m(\u001b[33m\"\u001b[39m\u001b[33mNaive Bayes\u001b[39m\u001b[33m'\u001b[39m\u001b[33ms Accuracy is: \u001b[39m\u001b[33m\"\u001b[39m, x,y)\n\u001b[32m---> \u001b[39m\u001b[32m18\u001b[39m \u001b[38;5;28mprint\u001b[39m(\u001b[43mclassification_report\u001b[49m\u001b[43m(\u001b[49m\u001b[43my_test\u001b[49m\u001b[43m,\u001b[49m\u001b[43mpredicted_values\u001b[49m\u001b[43m)\u001b[49m)\n",
      "\u001b[36mFile \u001b[39m\u001b[32mc:\\Users\\sahas\\OneDrive\\Desktop\\CODING\\AgriTech\\.venv\\Lib\\site-packages\\sklearn\\utils\\_param_validation.py:216\u001b[39m, in \u001b[36mvalidate_params.<locals>.decorator.<locals>.wrapper\u001b[39m\u001b[34m(*args, **kwargs)\u001b[39m\n\u001b[32m    210\u001b[39m \u001b[38;5;28;01mtry\u001b[39;00m:\n\u001b[32m    211\u001b[39m     \u001b[38;5;28;01mwith\u001b[39;00m config_context(\n\u001b[32m    212\u001b[39m         skip_parameter_validation=(\n\u001b[32m    213\u001b[39m             prefer_skip_nested_validation \u001b[38;5;129;01mor\u001b[39;00m global_skip_validation\n\u001b[32m    214\u001b[39m         )\n\u001b[32m    215\u001b[39m     ):\n\u001b[32m--> \u001b[39m\u001b[32m216\u001b[39m         \u001b[38;5;28;01mreturn\u001b[39;00m \u001b[43mfunc\u001b[49m\u001b[43m(\u001b[49m\u001b[43m*\u001b[49m\u001b[43margs\u001b[49m\u001b[43m,\u001b[49m\u001b[43m \u001b[49m\u001b[43m*\u001b[49m\u001b[43m*\u001b[49m\u001b[43mkwargs\u001b[49m\u001b[43m)\u001b[49m\n\u001b[32m    217\u001b[39m \u001b[38;5;28;01mexcept\u001b[39;00m InvalidParameterError \u001b[38;5;28;01mas\u001b[39;00m e:\n\u001b[32m    218\u001b[39m     \u001b[38;5;66;03m# When the function is just a wrapper around an estimator, we allow\u001b[39;00m\n\u001b[32m    219\u001b[39m     \u001b[38;5;66;03m# the function to delegate validation to the estimator, but we replace\u001b[39;00m\n\u001b[32m    220\u001b[39m     \u001b[38;5;66;03m# the name of the estimator by the name of the function in the error\u001b[39;00m\n\u001b[32m    221\u001b[39m     \u001b[38;5;66;03m# message to avoid confusion.\u001b[39;00m\n\u001b[32m    222\u001b[39m     msg = re.sub(\n\u001b[32m    223\u001b[39m         \u001b[33mr\u001b[39m\u001b[33m\"\u001b[39m\u001b[33mparameter of \u001b[39m\u001b[33m\\\u001b[39m\u001b[33mw+ must be\u001b[39m\u001b[33m\"\u001b[39m,\n\u001b[32m    224\u001b[39m         \u001b[33mf\u001b[39m\u001b[33m\"\u001b[39m\u001b[33mparameter of \u001b[39m\u001b[38;5;132;01m{\u001b[39;00mfunc.\u001b[34m__qualname__\u001b[39m\u001b[38;5;132;01m}\u001b[39;00m\u001b[33m must be\u001b[39m\u001b[33m\"\u001b[39m,\n\u001b[32m    225\u001b[39m         \u001b[38;5;28mstr\u001b[39m(e),\n\u001b[32m    226\u001b[39m     )\n",
      "\u001b[36mFile \u001b[39m\u001b[32mc:\\Users\\sahas\\OneDrive\\Desktop\\CODING\\AgriTech\\.venv\\Lib\\site-packages\\sklearn\\metrics\\_classification.py:2671\u001b[39m, in \u001b[36mclassification_report\u001b[39m\u001b[34m(y_true, y_pred, labels, target_names, sample_weight, digits, output_dict, zero_division)\u001b[39m\n\u001b[32m   2563\u001b[39m \u001b[38;5;250m\u001b[39m\u001b[33;03m\"\"\"Build a text report showing the main classification metrics.\u001b[39;00m\n\u001b[32m   2564\u001b[39m \n\u001b[32m   2565\u001b[39m \u001b[33;03mRead more in the :ref:`User Guide <classification_report>`.\u001b[39;00m\n\u001b[32m   (...)\u001b[39m\u001b[32m   2667\u001b[39m \u001b[33;03m<BLANKLINE>\u001b[39;00m\n\u001b[32m   2668\u001b[39m \u001b[33;03m\"\"\"\u001b[39;00m\n\u001b[32m   2670\u001b[39m y_true, y_pred = attach_unique(y_true, y_pred)\n\u001b[32m-> \u001b[39m\u001b[32m2671\u001b[39m y_type, y_true, y_pred = \u001b[43m_check_targets\u001b[49m\u001b[43m(\u001b[49m\u001b[43my_true\u001b[49m\u001b[43m,\u001b[49m\u001b[43m \u001b[49m\u001b[43my_pred\u001b[49m\u001b[43m)\u001b[49m\n\u001b[32m   2673\u001b[39m \u001b[38;5;28;01mif\u001b[39;00m labels \u001b[38;5;129;01mis\u001b[39;00m \u001b[38;5;28;01mNone\u001b[39;00m:\n\u001b[32m   2674\u001b[39m     labels = unique_labels(y_true, y_pred)\n",
      "\u001b[36mFile \u001b[39m\u001b[32mc:\\Users\\sahas\\OneDrive\\Desktop\\CODING\\AgriTech\\.venv\\Lib\\site-packages\\sklearn\\metrics\\_classification.py:98\u001b[39m, in \u001b[36m_check_targets\u001b[39m\u001b[34m(y_true, y_pred)\u001b[39m\n\u001b[32m     71\u001b[39m \u001b[38;5;250m\u001b[39m\u001b[33;03m\"\"\"Check that y_true and y_pred belong to the same classification task.\u001b[39;00m\n\u001b[32m     72\u001b[39m \n\u001b[32m     73\u001b[39m \u001b[33;03mThis converts multiclass or binary types to a common shape, and raises a\u001b[39;00m\n\u001b[32m   (...)\u001b[39m\u001b[32m     95\u001b[39m \u001b[33;03my_pred : array or indicator matrix\u001b[39;00m\n\u001b[32m     96\u001b[39m \u001b[33;03m\"\"\"\u001b[39;00m\n\u001b[32m     97\u001b[39m xp, _ = get_namespace(y_true, y_pred)\n\u001b[32m---> \u001b[39m\u001b[32m98\u001b[39m \u001b[43mcheck_consistent_length\u001b[49m\u001b[43m(\u001b[49m\u001b[43my_true\u001b[49m\u001b[43m,\u001b[49m\u001b[43m \u001b[49m\u001b[43my_pred\u001b[49m\u001b[43m)\u001b[49m\n\u001b[32m     99\u001b[39m type_true = type_of_target(y_true, input_name=\u001b[33m\"\u001b[39m\u001b[33my_true\u001b[39m\u001b[33m\"\u001b[39m)\n\u001b[32m    100\u001b[39m type_pred = type_of_target(y_pred, input_name=\u001b[33m\"\u001b[39m\u001b[33my_pred\u001b[39m\u001b[33m\"\u001b[39m)\n",
      "\u001b[36mFile \u001b[39m\u001b[32mc:\\Users\\sahas\\OneDrive\\Desktop\\CODING\\AgriTech\\.venv\\Lib\\site-packages\\sklearn\\utils\\validation.py:475\u001b[39m, in \u001b[36mcheck_consistent_length\u001b[39m\u001b[34m(*arrays)\u001b[39m\n\u001b[32m    473\u001b[39m uniques = np.unique(lengths)\n\u001b[32m    474\u001b[39m \u001b[38;5;28;01mif\u001b[39;00m \u001b[38;5;28mlen\u001b[39m(uniques) > \u001b[32m1\u001b[39m:\n\u001b[32m--> \u001b[39m\u001b[32m475\u001b[39m     \u001b[38;5;28;01mraise\u001b[39;00m \u001b[38;5;167;01mValueError\u001b[39;00m(\n\u001b[32m    476\u001b[39m         \u001b[33m\"\u001b[39m\u001b[33mFound input variables with inconsistent numbers of samples: \u001b[39m\u001b[38;5;132;01m%r\u001b[39;00m\u001b[33m\"\u001b[39m\n\u001b[32m    477\u001b[39m         % [\u001b[38;5;28mint\u001b[39m(l) \u001b[38;5;28;01mfor\u001b[39;00m l \u001b[38;5;129;01min\u001b[39;00m lengths]\n\u001b[32m    478\u001b[39m     )\n",
      "\u001b[31mValueError\u001b[39m: Found input variables with inconsistent numbers of samples: [111, 441]"
     ]
    }
   ],
   "source": [
    "from sklearn.naive_bayes import GaussianNB\n",
    "\n",
    "NaiveBayes = GaussianNB()\n",
    "\n",
    "NaiveBayes.fit(x_train,y_train)\n",
    "\n",
    "predicted_values = NaiveBayes.predict(x_test)\n",
    "x = metrics.accuracy_score(y_test, predicted_values)\n",
    "acc.append(x)\n",
    "\n",
    "predicted_values = NaiveBayes.predict(x_train)\n",
    "y = metrics.accuracy_score(y_train, predicted_values)\n",
    "acc1.append(y)\n",
    "\n",
    "model.append('Naive Bayes')\n",
    "print(\"Naive Bayes's Accuracy is: \", x,y)\n",
    "\n",
    "print(classification_report(y_test,predicted_values))"
   ]
  },
  {
   "cell_type": "code",
   "execution_count": 33,
   "id": "independent-economics",
   "metadata": {},
   "outputs": [
    {
     "name": "stdout",
     "output_type": "stream",
     "text": [
      "SVM's Accuracy is:  0.990990990990991 0.9931972789115646\n"
     ]
    },
    {
     "ename": "ValueError",
     "evalue": "Found input variables with inconsistent numbers of samples: [111, 441]",
     "output_type": "error",
     "traceback": [
      "\u001b[31m---------------------------------------------------------------------------\u001b[39m",
      "\u001b[31mValueError\u001b[39m                                Traceback (most recent call last)",
      "\u001b[36mCell\u001b[39m\u001b[36m \u001b[39m\u001b[32mIn[33]\u001b[39m\u001b[32m, line 23\u001b[39m\n\u001b[32m     20\u001b[39m model.append(\u001b[33m'\u001b[39m\u001b[33mSVM\u001b[39m\u001b[33m'\u001b[39m)\n\u001b[32m     21\u001b[39m \u001b[38;5;28mprint\u001b[39m(\u001b[33m\"\u001b[39m\u001b[33mSVM\u001b[39m\u001b[33m'\u001b[39m\u001b[33ms Accuracy is: \u001b[39m\u001b[33m\"\u001b[39m, x,y)\n\u001b[32m---> \u001b[39m\u001b[32m23\u001b[39m \u001b[38;5;28mprint\u001b[39m(\u001b[43mclassification_report\u001b[49m\u001b[43m(\u001b[49m\u001b[43my_test\u001b[49m\u001b[43m,\u001b[49m\u001b[43mpredicted_values\u001b[49m\u001b[43m)\u001b[49m)\n",
      "\u001b[36mFile \u001b[39m\u001b[32mc:\\Users\\sahas\\OneDrive\\Desktop\\CODING\\AgriTech\\.venv\\Lib\\site-packages\\sklearn\\utils\\_param_validation.py:216\u001b[39m, in \u001b[36mvalidate_params.<locals>.decorator.<locals>.wrapper\u001b[39m\u001b[34m(*args, **kwargs)\u001b[39m\n\u001b[32m    210\u001b[39m \u001b[38;5;28;01mtry\u001b[39;00m:\n\u001b[32m    211\u001b[39m     \u001b[38;5;28;01mwith\u001b[39;00m config_context(\n\u001b[32m    212\u001b[39m         skip_parameter_validation=(\n\u001b[32m    213\u001b[39m             prefer_skip_nested_validation \u001b[38;5;129;01mor\u001b[39;00m global_skip_validation\n\u001b[32m    214\u001b[39m         )\n\u001b[32m    215\u001b[39m     ):\n\u001b[32m--> \u001b[39m\u001b[32m216\u001b[39m         \u001b[38;5;28;01mreturn\u001b[39;00m \u001b[43mfunc\u001b[49m\u001b[43m(\u001b[49m\u001b[43m*\u001b[49m\u001b[43margs\u001b[49m\u001b[43m,\u001b[49m\u001b[43m \u001b[49m\u001b[43m*\u001b[49m\u001b[43m*\u001b[49m\u001b[43mkwargs\u001b[49m\u001b[43m)\u001b[49m\n\u001b[32m    217\u001b[39m \u001b[38;5;28;01mexcept\u001b[39;00m InvalidParameterError \u001b[38;5;28;01mas\u001b[39;00m e:\n\u001b[32m    218\u001b[39m     \u001b[38;5;66;03m# When the function is just a wrapper around an estimator, we allow\u001b[39;00m\n\u001b[32m    219\u001b[39m     \u001b[38;5;66;03m# the function to delegate validation to the estimator, but we replace\u001b[39;00m\n\u001b[32m    220\u001b[39m     \u001b[38;5;66;03m# the name of the estimator by the name of the function in the error\u001b[39;00m\n\u001b[32m    221\u001b[39m     \u001b[38;5;66;03m# message to avoid confusion.\u001b[39;00m\n\u001b[32m    222\u001b[39m     msg = re.sub(\n\u001b[32m    223\u001b[39m         \u001b[33mr\u001b[39m\u001b[33m\"\u001b[39m\u001b[33mparameter of \u001b[39m\u001b[33m\\\u001b[39m\u001b[33mw+ must be\u001b[39m\u001b[33m\"\u001b[39m,\n\u001b[32m    224\u001b[39m         \u001b[33mf\u001b[39m\u001b[33m\"\u001b[39m\u001b[33mparameter of \u001b[39m\u001b[38;5;132;01m{\u001b[39;00mfunc.\u001b[34m__qualname__\u001b[39m\u001b[38;5;132;01m}\u001b[39;00m\u001b[33m must be\u001b[39m\u001b[33m\"\u001b[39m,\n\u001b[32m    225\u001b[39m         \u001b[38;5;28mstr\u001b[39m(e),\n\u001b[32m    226\u001b[39m     )\n",
      "\u001b[36mFile \u001b[39m\u001b[32mc:\\Users\\sahas\\OneDrive\\Desktop\\CODING\\AgriTech\\.venv\\Lib\\site-packages\\sklearn\\metrics\\_classification.py:2671\u001b[39m, in \u001b[36mclassification_report\u001b[39m\u001b[34m(y_true, y_pred, labels, target_names, sample_weight, digits, output_dict, zero_division)\u001b[39m\n\u001b[32m   2563\u001b[39m \u001b[38;5;250m\u001b[39m\u001b[33;03m\"\"\"Build a text report showing the main classification metrics.\u001b[39;00m\n\u001b[32m   2564\u001b[39m \n\u001b[32m   2565\u001b[39m \u001b[33;03mRead more in the :ref:`User Guide <classification_report>`.\u001b[39;00m\n\u001b[32m   (...)\u001b[39m\u001b[32m   2667\u001b[39m \u001b[33;03m<BLANKLINE>\u001b[39;00m\n\u001b[32m   2668\u001b[39m \u001b[33;03m\"\"\"\u001b[39;00m\n\u001b[32m   2670\u001b[39m y_true, y_pred = attach_unique(y_true, y_pred)\n\u001b[32m-> \u001b[39m\u001b[32m2671\u001b[39m y_type, y_true, y_pred = \u001b[43m_check_targets\u001b[49m\u001b[43m(\u001b[49m\u001b[43my_true\u001b[49m\u001b[43m,\u001b[49m\u001b[43m \u001b[49m\u001b[43my_pred\u001b[49m\u001b[43m)\u001b[49m\n\u001b[32m   2673\u001b[39m \u001b[38;5;28;01mif\u001b[39;00m labels \u001b[38;5;129;01mis\u001b[39;00m \u001b[38;5;28;01mNone\u001b[39;00m:\n\u001b[32m   2674\u001b[39m     labels = unique_labels(y_true, y_pred)\n",
      "\u001b[36mFile \u001b[39m\u001b[32mc:\\Users\\sahas\\OneDrive\\Desktop\\CODING\\AgriTech\\.venv\\Lib\\site-packages\\sklearn\\metrics\\_classification.py:98\u001b[39m, in \u001b[36m_check_targets\u001b[39m\u001b[34m(y_true, y_pred)\u001b[39m\n\u001b[32m     71\u001b[39m \u001b[38;5;250m\u001b[39m\u001b[33;03m\"\"\"Check that y_true and y_pred belong to the same classification task.\u001b[39;00m\n\u001b[32m     72\u001b[39m \n\u001b[32m     73\u001b[39m \u001b[33;03mThis converts multiclass or binary types to a common shape, and raises a\u001b[39;00m\n\u001b[32m   (...)\u001b[39m\u001b[32m     95\u001b[39m \u001b[33;03my_pred : array or indicator matrix\u001b[39;00m\n\u001b[32m     96\u001b[39m \u001b[33;03m\"\"\"\u001b[39;00m\n\u001b[32m     97\u001b[39m xp, _ = get_namespace(y_true, y_pred)\n\u001b[32m---> \u001b[39m\u001b[32m98\u001b[39m \u001b[43mcheck_consistent_length\u001b[49m\u001b[43m(\u001b[49m\u001b[43my_true\u001b[49m\u001b[43m,\u001b[49m\u001b[43m \u001b[49m\u001b[43my_pred\u001b[49m\u001b[43m)\u001b[49m\n\u001b[32m     99\u001b[39m type_true = type_of_target(y_true, input_name=\u001b[33m\"\u001b[39m\u001b[33my_true\u001b[39m\u001b[33m\"\u001b[39m)\n\u001b[32m    100\u001b[39m type_pred = type_of_target(y_pred, input_name=\u001b[33m\"\u001b[39m\u001b[33my_pred\u001b[39m\u001b[33m\"\u001b[39m)\n",
      "\u001b[36mFile \u001b[39m\u001b[32mc:\\Users\\sahas\\OneDrive\\Desktop\\CODING\\AgriTech\\.venv\\Lib\\site-packages\\sklearn\\utils\\validation.py:475\u001b[39m, in \u001b[36mcheck_consistent_length\u001b[39m\u001b[34m(*arrays)\u001b[39m\n\u001b[32m    473\u001b[39m uniques = np.unique(lengths)\n\u001b[32m    474\u001b[39m \u001b[38;5;28;01mif\u001b[39;00m \u001b[38;5;28mlen\u001b[39m(uniques) > \u001b[32m1\u001b[39m:\n\u001b[32m--> \u001b[39m\u001b[32m475\u001b[39m     \u001b[38;5;28;01mraise\u001b[39;00m \u001b[38;5;167;01mValueError\u001b[39;00m(\n\u001b[32m    476\u001b[39m         \u001b[33m\"\u001b[39m\u001b[33mFound input variables with inconsistent numbers of samples: \u001b[39m\u001b[38;5;132;01m%r\u001b[39;00m\u001b[33m\"\u001b[39m\n\u001b[32m    477\u001b[39m         % [\u001b[38;5;28mint\u001b[39m(l) \u001b[38;5;28;01mfor\u001b[39;00m l \u001b[38;5;129;01min\u001b[39;00m lengths]\n\u001b[32m    478\u001b[39m     )\n",
      "\u001b[31mValueError\u001b[39m: Found input variables with inconsistent numbers of samples: [111, 441]"
     ]
    }
   ],
   "source": [
    "from sklearn.svm import SVC\n",
    "# data normalization with sklearn\n",
    "from sklearn.preprocessing import MinMaxScaler\n",
    "# fit scaler on training data\n",
    "norm = MinMaxScaler().fit(x_train)\n",
    "X_train_norm = norm.transform(x_train)\n",
    "# transform testing dataabs\n",
    "X_test_norm = norm.transform(x_test)\n",
    "SVM = SVC(kernel='poly', degree=3, C=1)\n",
    "SVM.fit(X_train_norm,y_train)\n",
    "\n",
    "predicted_values = SVM.predict(X_test_norm)\n",
    "x = metrics.accuracy_score(y_test, predicted_values)\n",
    "acc.append(x)\n",
    "\n",
    "predicted_values = SVM.predict(X_train_norm)\n",
    "y = metrics.accuracy_score(y_train, predicted_values)\n",
    "acc1.append(y)\n",
    "\n",
    "model.append('SVM')\n",
    "print(\"SVM's Accuracy is: \", x,y)\n",
    "\n",
    "print(classification_report(y_test,predicted_values))"
   ]
  },
  {
   "cell_type": "code",
   "execution_count": 34,
   "id": "psychological-encounter",
   "metadata": {},
   "outputs": [
    {
     "name": "stdout",
     "output_type": "stream",
     "text": [
      "Logistic Regression's Accuracy is:  0.7837837837837838 0.909297052154195\n"
     ]
    },
    {
     "ename": "ValueError",
     "evalue": "Found input variables with inconsistent numbers of samples: [111, 441]",
     "output_type": "error",
     "traceback": [
      "\u001b[31m---------------------------------------------------------------------------\u001b[39m",
      "\u001b[31mValueError\u001b[39m                                Traceback (most recent call last)",
      "\u001b[36mCell\u001b[39m\u001b[36m \u001b[39m\u001b[32mIn[34]\u001b[39m\u001b[32m, line 18\u001b[39m\n\u001b[32m     15\u001b[39m model.append(\u001b[33m'\u001b[39m\u001b[33mLogistic Regression\u001b[39m\u001b[33m'\u001b[39m)\n\u001b[32m     16\u001b[39m \u001b[38;5;28mprint\u001b[39m(\u001b[33m\"\u001b[39m\u001b[33mLogistic Regression\u001b[39m\u001b[33m'\u001b[39m\u001b[33ms Accuracy is: \u001b[39m\u001b[33m\"\u001b[39m, x,y)\n\u001b[32m---> \u001b[39m\u001b[32m18\u001b[39m \u001b[38;5;28mprint\u001b[39m(\u001b[43mclassification_report\u001b[49m\u001b[43m(\u001b[49m\u001b[43my_test\u001b[49m\u001b[43m,\u001b[49m\u001b[43mpredicted_values\u001b[49m\u001b[43m)\u001b[49m)\n",
      "\u001b[36mFile \u001b[39m\u001b[32mc:\\Users\\sahas\\OneDrive\\Desktop\\CODING\\AgriTech\\.venv\\Lib\\site-packages\\sklearn\\utils\\_param_validation.py:216\u001b[39m, in \u001b[36mvalidate_params.<locals>.decorator.<locals>.wrapper\u001b[39m\u001b[34m(*args, **kwargs)\u001b[39m\n\u001b[32m    210\u001b[39m \u001b[38;5;28;01mtry\u001b[39;00m:\n\u001b[32m    211\u001b[39m     \u001b[38;5;28;01mwith\u001b[39;00m config_context(\n\u001b[32m    212\u001b[39m         skip_parameter_validation=(\n\u001b[32m    213\u001b[39m             prefer_skip_nested_validation \u001b[38;5;129;01mor\u001b[39;00m global_skip_validation\n\u001b[32m    214\u001b[39m         )\n\u001b[32m    215\u001b[39m     ):\n\u001b[32m--> \u001b[39m\u001b[32m216\u001b[39m         \u001b[38;5;28;01mreturn\u001b[39;00m \u001b[43mfunc\u001b[49m\u001b[43m(\u001b[49m\u001b[43m*\u001b[49m\u001b[43margs\u001b[49m\u001b[43m,\u001b[49m\u001b[43m \u001b[49m\u001b[43m*\u001b[49m\u001b[43m*\u001b[49m\u001b[43mkwargs\u001b[49m\u001b[43m)\u001b[49m\n\u001b[32m    217\u001b[39m \u001b[38;5;28;01mexcept\u001b[39;00m InvalidParameterError \u001b[38;5;28;01mas\u001b[39;00m e:\n\u001b[32m    218\u001b[39m     \u001b[38;5;66;03m# When the function is just a wrapper around an estimator, we allow\u001b[39;00m\n\u001b[32m    219\u001b[39m     \u001b[38;5;66;03m# the function to delegate validation to the estimator, but we replace\u001b[39;00m\n\u001b[32m    220\u001b[39m     \u001b[38;5;66;03m# the name of the estimator by the name of the function in the error\u001b[39;00m\n\u001b[32m    221\u001b[39m     \u001b[38;5;66;03m# message to avoid confusion.\u001b[39;00m\n\u001b[32m    222\u001b[39m     msg = re.sub(\n\u001b[32m    223\u001b[39m         \u001b[33mr\u001b[39m\u001b[33m\"\u001b[39m\u001b[33mparameter of \u001b[39m\u001b[33m\\\u001b[39m\u001b[33mw+ must be\u001b[39m\u001b[33m\"\u001b[39m,\n\u001b[32m    224\u001b[39m         \u001b[33mf\u001b[39m\u001b[33m\"\u001b[39m\u001b[33mparameter of \u001b[39m\u001b[38;5;132;01m{\u001b[39;00mfunc.\u001b[34m__qualname__\u001b[39m\u001b[38;5;132;01m}\u001b[39;00m\u001b[33m must be\u001b[39m\u001b[33m\"\u001b[39m,\n\u001b[32m    225\u001b[39m         \u001b[38;5;28mstr\u001b[39m(e),\n\u001b[32m    226\u001b[39m     )\n",
      "\u001b[36mFile \u001b[39m\u001b[32mc:\\Users\\sahas\\OneDrive\\Desktop\\CODING\\AgriTech\\.venv\\Lib\\site-packages\\sklearn\\metrics\\_classification.py:2671\u001b[39m, in \u001b[36mclassification_report\u001b[39m\u001b[34m(y_true, y_pred, labels, target_names, sample_weight, digits, output_dict, zero_division)\u001b[39m\n\u001b[32m   2563\u001b[39m \u001b[38;5;250m\u001b[39m\u001b[33;03m\"\"\"Build a text report showing the main classification metrics.\u001b[39;00m\n\u001b[32m   2564\u001b[39m \n\u001b[32m   2565\u001b[39m \u001b[33;03mRead more in the :ref:`User Guide <classification_report>`.\u001b[39;00m\n\u001b[32m   (...)\u001b[39m\u001b[32m   2667\u001b[39m \u001b[33;03m<BLANKLINE>\u001b[39;00m\n\u001b[32m   2668\u001b[39m \u001b[33;03m\"\"\"\u001b[39;00m\n\u001b[32m   2670\u001b[39m y_true, y_pred = attach_unique(y_true, y_pred)\n\u001b[32m-> \u001b[39m\u001b[32m2671\u001b[39m y_type, y_true, y_pred = \u001b[43m_check_targets\u001b[49m\u001b[43m(\u001b[49m\u001b[43my_true\u001b[49m\u001b[43m,\u001b[49m\u001b[43m \u001b[49m\u001b[43my_pred\u001b[49m\u001b[43m)\u001b[49m\n\u001b[32m   2673\u001b[39m \u001b[38;5;28;01mif\u001b[39;00m labels \u001b[38;5;129;01mis\u001b[39;00m \u001b[38;5;28;01mNone\u001b[39;00m:\n\u001b[32m   2674\u001b[39m     labels = unique_labels(y_true, y_pred)\n",
      "\u001b[36mFile \u001b[39m\u001b[32mc:\\Users\\sahas\\OneDrive\\Desktop\\CODING\\AgriTech\\.venv\\Lib\\site-packages\\sklearn\\metrics\\_classification.py:98\u001b[39m, in \u001b[36m_check_targets\u001b[39m\u001b[34m(y_true, y_pred)\u001b[39m\n\u001b[32m     71\u001b[39m \u001b[38;5;250m\u001b[39m\u001b[33;03m\"\"\"Check that y_true and y_pred belong to the same classification task.\u001b[39;00m\n\u001b[32m     72\u001b[39m \n\u001b[32m     73\u001b[39m \u001b[33;03mThis converts multiclass or binary types to a common shape, and raises a\u001b[39;00m\n\u001b[32m   (...)\u001b[39m\u001b[32m     95\u001b[39m \u001b[33;03my_pred : array or indicator matrix\u001b[39;00m\n\u001b[32m     96\u001b[39m \u001b[33;03m\"\"\"\u001b[39;00m\n\u001b[32m     97\u001b[39m xp, _ = get_namespace(y_true, y_pred)\n\u001b[32m---> \u001b[39m\u001b[32m98\u001b[39m \u001b[43mcheck_consistent_length\u001b[49m\u001b[43m(\u001b[49m\u001b[43my_true\u001b[49m\u001b[43m,\u001b[49m\u001b[43m \u001b[49m\u001b[43my_pred\u001b[49m\u001b[43m)\u001b[49m\n\u001b[32m     99\u001b[39m type_true = type_of_target(y_true, input_name=\u001b[33m\"\u001b[39m\u001b[33my_true\u001b[39m\u001b[33m\"\u001b[39m)\n\u001b[32m    100\u001b[39m type_pred = type_of_target(y_pred, input_name=\u001b[33m\"\u001b[39m\u001b[33my_pred\u001b[39m\u001b[33m\"\u001b[39m)\n",
      "\u001b[36mFile \u001b[39m\u001b[32mc:\\Users\\sahas\\OneDrive\\Desktop\\CODING\\AgriTech\\.venv\\Lib\\site-packages\\sklearn\\utils\\validation.py:475\u001b[39m, in \u001b[36mcheck_consistent_length\u001b[39m\u001b[34m(*arrays)\u001b[39m\n\u001b[32m    473\u001b[39m uniques = np.unique(lengths)\n\u001b[32m    474\u001b[39m \u001b[38;5;28;01mif\u001b[39;00m \u001b[38;5;28mlen\u001b[39m(uniques) > \u001b[32m1\u001b[39m:\n\u001b[32m--> \u001b[39m\u001b[32m475\u001b[39m     \u001b[38;5;28;01mraise\u001b[39;00m \u001b[38;5;167;01mValueError\u001b[39;00m(\n\u001b[32m    476\u001b[39m         \u001b[33m\"\u001b[39m\u001b[33mFound input variables with inconsistent numbers of samples: \u001b[39m\u001b[38;5;132;01m%r\u001b[39;00m\u001b[33m\"\u001b[39m\n\u001b[32m    477\u001b[39m         % [\u001b[38;5;28mint\u001b[39m(l) \u001b[38;5;28;01mfor\u001b[39;00m l \u001b[38;5;129;01min\u001b[39;00m lengths]\n\u001b[32m    478\u001b[39m     )\n",
      "\u001b[31mValueError\u001b[39m: Found input variables with inconsistent numbers of samples: [111, 441]"
     ]
    }
   ],
   "source": [
    "from sklearn.linear_model import LogisticRegression\n",
    "\n",
    "LogReg = LogisticRegression(random_state=2)\n",
    "\n",
    "LogReg.fit(x_train,y_train)\n",
    "\n",
    "predicted_values = LogReg.predict(x_test)\n",
    "x = metrics.accuracy_score(y_test, predicted_values)\n",
    "acc.append(x)\n",
    "\n",
    "predicted_values = LogReg.predict(x_train)\n",
    "y = metrics.accuracy_score(y_train, predicted_values)\n",
    "acc1.append(y)\n",
    "\n",
    "model.append('Logistic Regression')\n",
    "print(\"Logistic Regression's Accuracy is: \", x,y)\n",
    "\n",
    "print(classification_report(y_test,predicted_values))"
   ]
  },
  {
   "cell_type": "code",
   "execution_count": 35,
   "id": "virgin-pride",
   "metadata": {},
   "outputs": [
    {
     "name": "stdout",
     "output_type": "stream",
     "text": [
      "RF's Accuracy is:  1.0 1.0\n"
     ]
    },
    {
     "ename": "ValueError",
     "evalue": "Found input variables with inconsistent numbers of samples: [111, 441]",
     "output_type": "error",
     "traceback": [
      "\u001b[31m---------------------------------------------------------------------------\u001b[39m",
      "\u001b[31mValueError\u001b[39m                                Traceback (most recent call last)",
      "\u001b[36mCell\u001b[39m\u001b[36m \u001b[39m\u001b[32mIn[35]\u001b[39m\u001b[32m, line 17\u001b[39m\n\u001b[32m     14\u001b[39m model.append(\u001b[33m'\u001b[39m\u001b[33mRF\u001b[39m\u001b[33m'\u001b[39m)\n\u001b[32m     15\u001b[39m \u001b[38;5;28mprint\u001b[39m(\u001b[33m\"\u001b[39m\u001b[33mRF\u001b[39m\u001b[33m'\u001b[39m\u001b[33ms Accuracy is: \u001b[39m\u001b[33m\"\u001b[39m, x,y)\n\u001b[32m---> \u001b[39m\u001b[32m17\u001b[39m \u001b[38;5;28mprint\u001b[39m(\u001b[43mclassification_report\u001b[49m\u001b[43m(\u001b[49m\u001b[43my_test\u001b[49m\u001b[43m,\u001b[49m\u001b[43mpredicted_values\u001b[49m\u001b[43m)\u001b[49m)\n",
      "\u001b[36mFile \u001b[39m\u001b[32mc:\\Users\\sahas\\OneDrive\\Desktop\\CODING\\AgriTech\\.venv\\Lib\\site-packages\\sklearn\\utils\\_param_validation.py:216\u001b[39m, in \u001b[36mvalidate_params.<locals>.decorator.<locals>.wrapper\u001b[39m\u001b[34m(*args, **kwargs)\u001b[39m\n\u001b[32m    210\u001b[39m \u001b[38;5;28;01mtry\u001b[39;00m:\n\u001b[32m    211\u001b[39m     \u001b[38;5;28;01mwith\u001b[39;00m config_context(\n\u001b[32m    212\u001b[39m         skip_parameter_validation=(\n\u001b[32m    213\u001b[39m             prefer_skip_nested_validation \u001b[38;5;129;01mor\u001b[39;00m global_skip_validation\n\u001b[32m    214\u001b[39m         )\n\u001b[32m    215\u001b[39m     ):\n\u001b[32m--> \u001b[39m\u001b[32m216\u001b[39m         \u001b[38;5;28;01mreturn\u001b[39;00m \u001b[43mfunc\u001b[49m\u001b[43m(\u001b[49m\u001b[43m*\u001b[49m\u001b[43margs\u001b[49m\u001b[43m,\u001b[49m\u001b[43m \u001b[49m\u001b[43m*\u001b[49m\u001b[43m*\u001b[49m\u001b[43mkwargs\u001b[49m\u001b[43m)\u001b[49m\n\u001b[32m    217\u001b[39m \u001b[38;5;28;01mexcept\u001b[39;00m InvalidParameterError \u001b[38;5;28;01mas\u001b[39;00m e:\n\u001b[32m    218\u001b[39m     \u001b[38;5;66;03m# When the function is just a wrapper around an estimator, we allow\u001b[39;00m\n\u001b[32m    219\u001b[39m     \u001b[38;5;66;03m# the function to delegate validation to the estimator, but we replace\u001b[39;00m\n\u001b[32m    220\u001b[39m     \u001b[38;5;66;03m# the name of the estimator by the name of the function in the error\u001b[39;00m\n\u001b[32m    221\u001b[39m     \u001b[38;5;66;03m# message to avoid confusion.\u001b[39;00m\n\u001b[32m    222\u001b[39m     msg = re.sub(\n\u001b[32m    223\u001b[39m         \u001b[33mr\u001b[39m\u001b[33m\"\u001b[39m\u001b[33mparameter of \u001b[39m\u001b[33m\\\u001b[39m\u001b[33mw+ must be\u001b[39m\u001b[33m\"\u001b[39m,\n\u001b[32m    224\u001b[39m         \u001b[33mf\u001b[39m\u001b[33m\"\u001b[39m\u001b[33mparameter of \u001b[39m\u001b[38;5;132;01m{\u001b[39;00mfunc.\u001b[34m__qualname__\u001b[39m\u001b[38;5;132;01m}\u001b[39;00m\u001b[33m must be\u001b[39m\u001b[33m\"\u001b[39m,\n\u001b[32m    225\u001b[39m         \u001b[38;5;28mstr\u001b[39m(e),\n\u001b[32m    226\u001b[39m     )\n",
      "\u001b[36mFile \u001b[39m\u001b[32mc:\\Users\\sahas\\OneDrive\\Desktop\\CODING\\AgriTech\\.venv\\Lib\\site-packages\\sklearn\\metrics\\_classification.py:2671\u001b[39m, in \u001b[36mclassification_report\u001b[39m\u001b[34m(y_true, y_pred, labels, target_names, sample_weight, digits, output_dict, zero_division)\u001b[39m\n\u001b[32m   2563\u001b[39m \u001b[38;5;250m\u001b[39m\u001b[33;03m\"\"\"Build a text report showing the main classification metrics.\u001b[39;00m\n\u001b[32m   2564\u001b[39m \n\u001b[32m   2565\u001b[39m \u001b[33;03mRead more in the :ref:`User Guide <classification_report>`.\u001b[39;00m\n\u001b[32m   (...)\u001b[39m\u001b[32m   2667\u001b[39m \u001b[33;03m<BLANKLINE>\u001b[39;00m\n\u001b[32m   2668\u001b[39m \u001b[33;03m\"\"\"\u001b[39;00m\n\u001b[32m   2670\u001b[39m y_true, y_pred = attach_unique(y_true, y_pred)\n\u001b[32m-> \u001b[39m\u001b[32m2671\u001b[39m y_type, y_true, y_pred = \u001b[43m_check_targets\u001b[49m\u001b[43m(\u001b[49m\u001b[43my_true\u001b[49m\u001b[43m,\u001b[49m\u001b[43m \u001b[49m\u001b[43my_pred\u001b[49m\u001b[43m)\u001b[49m\n\u001b[32m   2673\u001b[39m \u001b[38;5;28;01mif\u001b[39;00m labels \u001b[38;5;129;01mis\u001b[39;00m \u001b[38;5;28;01mNone\u001b[39;00m:\n\u001b[32m   2674\u001b[39m     labels = unique_labels(y_true, y_pred)\n",
      "\u001b[36mFile \u001b[39m\u001b[32mc:\\Users\\sahas\\OneDrive\\Desktop\\CODING\\AgriTech\\.venv\\Lib\\site-packages\\sklearn\\metrics\\_classification.py:98\u001b[39m, in \u001b[36m_check_targets\u001b[39m\u001b[34m(y_true, y_pred)\u001b[39m\n\u001b[32m     71\u001b[39m \u001b[38;5;250m\u001b[39m\u001b[33;03m\"\"\"Check that y_true and y_pred belong to the same classification task.\u001b[39;00m\n\u001b[32m     72\u001b[39m \n\u001b[32m     73\u001b[39m \u001b[33;03mThis converts multiclass or binary types to a common shape, and raises a\u001b[39;00m\n\u001b[32m   (...)\u001b[39m\u001b[32m     95\u001b[39m \u001b[33;03my_pred : array or indicator matrix\u001b[39;00m\n\u001b[32m     96\u001b[39m \u001b[33;03m\"\"\"\u001b[39;00m\n\u001b[32m     97\u001b[39m xp, _ = get_namespace(y_true, y_pred)\n\u001b[32m---> \u001b[39m\u001b[32m98\u001b[39m \u001b[43mcheck_consistent_length\u001b[49m\u001b[43m(\u001b[49m\u001b[43my_true\u001b[49m\u001b[43m,\u001b[49m\u001b[43m \u001b[49m\u001b[43my_pred\u001b[49m\u001b[43m)\u001b[49m\n\u001b[32m     99\u001b[39m type_true = type_of_target(y_true, input_name=\u001b[33m\"\u001b[39m\u001b[33my_true\u001b[39m\u001b[33m\"\u001b[39m)\n\u001b[32m    100\u001b[39m type_pred = type_of_target(y_pred, input_name=\u001b[33m\"\u001b[39m\u001b[33my_pred\u001b[39m\u001b[33m\"\u001b[39m)\n",
      "\u001b[36mFile \u001b[39m\u001b[32mc:\\Users\\sahas\\OneDrive\\Desktop\\CODING\\AgriTech\\.venv\\Lib\\site-packages\\sklearn\\utils\\validation.py:475\u001b[39m, in \u001b[36mcheck_consistent_length\u001b[39m\u001b[34m(*arrays)\u001b[39m\n\u001b[32m    473\u001b[39m uniques = np.unique(lengths)\n\u001b[32m    474\u001b[39m \u001b[38;5;28;01mif\u001b[39;00m \u001b[38;5;28mlen\u001b[39m(uniques) > \u001b[32m1\u001b[39m:\n\u001b[32m--> \u001b[39m\u001b[32m475\u001b[39m     \u001b[38;5;28;01mraise\u001b[39;00m \u001b[38;5;167;01mValueError\u001b[39;00m(\n\u001b[32m    476\u001b[39m         \u001b[33m\"\u001b[39m\u001b[33mFound input variables with inconsistent numbers of samples: \u001b[39m\u001b[38;5;132;01m%r\u001b[39;00m\u001b[33m\"\u001b[39m\n\u001b[32m    477\u001b[39m         % [\u001b[38;5;28mint\u001b[39m(l) \u001b[38;5;28;01mfor\u001b[39;00m l \u001b[38;5;129;01min\u001b[39;00m lengths]\n\u001b[32m    478\u001b[39m     )\n",
      "\u001b[31mValueError\u001b[39m: Found input variables with inconsistent numbers of samples: [111, 441]"
     ]
    }
   ],
   "source": [
    "from sklearn.ensemble import RandomForestClassifier\n",
    "\n",
    "RF = RandomForestClassifier(n_estimators=20, random_state=0)\n",
    "RF.fit(x_train,y_train)\n",
    "\n",
    "predicted_values = RF.predict(x_test)\n",
    "x = metrics.accuracy_score(y_test, predicted_values)\n",
    "acc.append(x)\n",
    "\n",
    "predicted_values = RF.predict(x_train)\n",
    "y = metrics.accuracy_score(y_train, predicted_values)\n",
    "acc1.append(y)\n",
    "\n",
    "model.append('RF')\n",
    "print(\"RF's Accuracy is: \", x,y)\n",
    "\n",
    "print(classification_report(y_test,predicted_values))"
   ]
  },
  {
   "cell_type": "code",
   "execution_count": 36,
   "id": "documented-preference",
   "metadata": {},
   "outputs": [
    {
     "name": "stdout",
     "output_type": "stream",
     "text": [
      "Cross-validation score of RF is: [1. 1. 1. 1. 1.]\n",
      "Cross-validation score of LogReg is: [0.97297297 0.94594595 0.91818182 0.88181818 0.87272727]\n",
      "Cross-validation score of SVM is: [0.96396396 0.92792793 0.91818182 0.88181818 0.98181818]\n",
      "Cross-validation score of NaiveBayes is: [1. 1. 1. 1. 1.]\n",
      "Cross-validation score of ds is: [1. 1. 1. 1. 1.]\n"
     ]
    }
   ],
   "source": [
    "from sklearn.model_selection import cross_val_score\n",
    "\n",
    "score = cross_val_score(RF,data,data.Fertilizer,cv=5)\n",
    "print(\"Cross-validation score of RF is:\",score)\n",
    "score = cross_val_score(LogReg,data,data.Fertilizer,cv=5)\n",
    "print(\"Cross-validation score of LogReg is:\",score)\n",
    "score = cross_val_score(SVM,data,data.Fertilizer,cv=5)\n",
    "print(\"Cross-validation score of SVM is:\",score)\n",
    "score = cross_val_score(NaiveBayes,data,data.Fertilizer,cv=5)\n",
    "print(\"Cross-validation score of NaiveBayes is:\",score)\n",
    "score = cross_val_score(ds, data, data.Fertilizer,cv=5)\n",
    "print(\"Cross-validation score of ds is:\",score)"
   ]
  },
  {
   "cell_type": "code",
   "execution_count": 37,
   "id": "cae5b81f",
   "metadata": {},
   "outputs": [
    {
     "data": {
      "text/plain": [
       "<Axes: title={'center': 'Accuracy Comparison'}, xlabel='Accuracy', ylabel='Algorithm'>"
      ]
     },
     "execution_count": 37,
     "metadata": {},
     "output_type": "execute_result"
    },
    {
     "data": {
      "image/png": "[encoded data removed]",
      "text/plain": [
       "<Figure size 1000x500 with 1 Axes>"
      ]
     },
     "metadata": {},
     "output_type": "display_data"
    }
   ],
   "source": [
    "plt.figure(figsize=[10,5],dpi = 100)\n",
    "plt.title('Accuracy Comparison')\n",
    "plt.xlabel('Accuracy')\n",
    "plt.ylabel('Algorithm')\n",
    "sns.barplot(x = acc,y = model,palette='dark')"
   ]
  },
  {
   "cell_type": "code",
   "execution_count": null,
   "id": "cf50ca2e",
   "metadata": {},
   "outputs": [],
   "source": []
  },
  {
   "cell_type": "code",
   "execution_count": 38,
   "id": "1a234d81",
   "metadata": {},
   "outputs": [
    {
     "name": "stdout",
     "output_type": "stream",
     "text": [
      "1.6.1\n"
     ]
    }
   ],
   "source": [
    "import sklearn\n",
    "print(sklearn.__version__)\n"
   ]
  },
  {
   "cell_type": "code",
   "execution_count": 39,
   "id": "logical-palestinian",
   "metadata": {},
   "outputs": [],
   "source": [
    "#pickling the file\n",
    "import pickle\n",
    "pickle_out = open('classifier.pkl','wb')\n",
    "pickle.dump(RF,pickle_out)\n",
    "pickle_out.close()"
   ]
  },
  {
   "cell_type": "code",
   "execution_count": 40,
   "id": "distant-michael",
   "metadata": {},
   "outputs": [
    {
     "data": {
      "text/plain": [
       "array([6])"
      ]
     },
     "execution_count": 40,
     "metadata": {},
     "output_type": "execute_result"
    }
   ],
   "source": [
    "model = pickle.load(open('classifier.pkl','rb'))\n",
    "model.predict([[34,67,62,0,1,7,0,30]])"
   ]
  },
  {
   "cell_type": "code",
   "execution_count": 41,
   "id": "46d043a6",
   "metadata": {},
   "outputs": [
    {
     "data": {
      "text/plain": [
       "array([10])"
      ]
     },
     "execution_count": 41,
     "metadata": {},
     "output_type": "execute_result"
    }
   ],
   "source": [
    "model = pickle.load(open('classifier.pkl','rb'))\n",
    "model.predict([[25,78,43,4,1,22,26,38]])"
   ]
  },
  {
   "cell_type": "code",
   "execution_count": 42,
   "id": "appointed-spouse",
   "metadata": {},
   "outputs": [],
   "source": [
    "#pickling the file\n",
    "import pickle\n",
    "pickle_out = open('fertilizer.pkl','wb')\n",
    "pickle.dump(encode_ferti,pickle_out)\n",
    "pickle_out.close()"
   ]
  },
  {
   "cell_type": "code",
   "execution_count": 43,
   "id": "surface-center",
   "metadata": {},
   "outputs": [
    {
     "data": {
      "text/plain": [
       "'10-26-26'"
      ]
     },
     "execution_count": 43,
     "metadata": {},
     "output_type": "execute_result"
    }
   ],
   "source": [
    "ferti = pickle.load(open('fertilizer.pkl','rb'))\n",
    "ferti.classes_[1]"
   ]
  },
  {
   "cell_type": "code",
   "execution_count": 44,
   "id": "452abd6a",
   "metadata": {},
   "outputs": [],
   "source": [
    "input = [25,78,43,4,1,22,26,38]"
   ]
  },
  {
   "cell_type": "code",
   "execution_count": 45,
   "id": "affected-tobacco",
   "metadata": {},
   "outputs": [
    {
     "name": "stdout",
     "output_type": "stream",
     "text": [
      "['Potassium sulfate.']\n"
     ]
    }
   ],
   "source": [
    "res = ferti.classes_[model.predict([input])]\n",
    "print(res)"
   ]
  },
  {
   "cell_type": "code",
   "execution_count": 46,
   "id": "deluxe-jungle",
   "metadata": {},
   "outputs": [
    {
     "data": {
      "text/plain": [
       "'Potassium sulfate.'"
      ]
     },
     "execution_count": 46,
     "metadata": {},
     "output_type": "execute_result"
    }
   ],
   "source": [
    "res[0]"
   ]
  },
  {
   "cell_type": "code",
   "execution_count": 49,
   "id": "c5df5589",
   "metadata": {},
   "outputs": [
    {
     "name": "stdout",
     "output_type": "stream",
     "text": [
      "absl-py==2.1.0\n",
      "aiobotocore @ file:///C:/b/abs_a0zxrsvpwx/croot/aiobotocore_1714464454692/work\n",
      "aiohttp @ file:///C:/b/abs_8860tt1424/croot/aiohttp_1715108828392/work\n",
      "aioitertools @ file:///tmp/build/80754af9/aioitertools_1607109665762/work\n",
      "aiosignal @ file:///tmp/build/80754af9/aiosignal_1637843061372/work\n",
      "alabaster @ file:///C:/b/abs_45ba4vacaj/croot/alabaster_1718201502252/work\n",
      "altair @ file:///C:/Users/dev-admin/perseverance-python-buildout/croot/altair_1699497320503/work\n",
      "anaconda-anon-usage @ file:///C:/b/abs_c3w_h1zzjg/croot/anaconda-anon-usage_1710965204622/work\n",
      "anaconda-catalogs @ file:///C:/Users/dev-admin/perseverance-python-buildout/croot/anaconda-catalogs_1701816586117/work\n",
      "anaconda-client @ file:///C:/b/abs_34txutm0ue/croot/anaconda-client_1708640705294/work\n",
      "anaconda-cloud-auth @ file:///C:/b/abs_b02evi84gh/croot/anaconda-cloud-auth_1713991445770/work\n",
      "anaconda-navigator @ file:///C:/b/abs_95tk8oar9e/croot/anaconda-navigator_1721727710743/work\n",
      "anaconda-project @ file:///C:/b/abs_95s0l9dwvd/croot/anaconda-project_1706049257687/work\n",
      "annotated-types @ file:///C:/b/abs_0dmaoyhhj3/croot/annotated-types_1709542968311/work\n",
      "antlr4-python3-runtime==4.9.3\n",
      "anyio @ file:///C:/b/abs_847uobe7ea/croot/anyio_1706220224037/work\n",
      "appdirs==1.4.4\n",
      "archspec @ file:///croot/archspec_1709217642129/work\n",
      "argon2-cffi @ file:///opt/conda/conda-bld/argon2-cffi_1645000214183/work\n",
      "argon2-cffi-bindings @ file:///C:/Users/dev-admin/perseverance-python-buildout/croot/argon2-cffi-bindings_1699549801117/work\n",
      "arrow @ file:///C:/Users/dev-admin/perseverance-python-buildout/croot/arrow_1699549851004/work\n",
      "astroid @ file:///C:/Users/dev-admin/perseverance-python-buildout/croot/astroid_1699480418189/work\n",
      "astropy @ file:///C:/b/abs_6fb0idwuus/croot/astropy_1717771833599/work\n",
      "astropy-iers-data @ file:///C:/b/abs_25j3323gvo/croot/astropy-iers-data_1717700771234/work\n",
      "asttokens @ file:///opt/conda/conda-bld/asttokens_1646925590279/work\n",
      "astunparse==1.6.3\n",
      "async-lru @ file:///C:/Users/dev-admin/perseverance-python-buildout/croot/async-lru_1701796859357/work\n",
      "atomicwrites==1.4.0\n",
      "attrs @ file:///C:/Users/dev-admin/perseverance-python-buildout/croot/attrs_1699473735254/work\n",
      "Automat @ file:///tmp/build/80754af9/automat_1600298431173/work\n",
      "autopep8 @ file:///croot/autopep8_1708962882016/work\n",
      "Babel @ file:///C:/Users/dev-admin/perseverance-python-buildout/croot/babel_1699475785740/work\n",
      "bcrypt @ file:///C:/Users/dev-admin/perseverance-python-buildout/croot/bcrypt_1699483842258/work\n",
      "beautifulsoup4 @ file:///C:/b/abs_d5wytg_p0w/croot/beautifulsoup4-split_1718029833749/work\n",
      "binaryornot @ file:///tmp/build/80754af9/binaryornot_1617751525010/work\n",
      "black @ file:///C:/b/abs_78b8tb3pkd/croot/black_1717597506351/work\n",
      "bleach @ file:///opt/conda/conda-bld/bleach_1641577558959/work\n",
      "blinker @ file:///C:/Users/dev-admin/perseverance-python-buildout/croot/blinker_1699474692786/work\n",
      "bokeh @ file:///C:/b/abs_0aes0rbxnz/croot/bokeh_1718119072183/work\n",
      "boltons @ file:///C:/Users/dev-admin/perseverance-python-buildout/croot/boltons_1699480450092/work\n",
      "botocore @ file:///C:/b/abs_0dkeqep0ox/croot/botocore_1714460586193/work\n",
      "Bottleneck @ file:///C:/b/abs_f7un855idq/croot/bottleneck_1709069969633/work\n",
      "Brotli @ file:///C:/b/abs_3d36mno480/croot/brotli-split_1714483178642/work\n",
      "cached-property @ file:///home/conda/feedstock_root/build_artifacts/cached_property_1615209429212/work\n",
      "cachetools @ file:///C:/b/abs_792zbtc0ua/croot/cachetools_1713977157919/work\n",
      "certifi @ file:///home/conda/feedstock_root/build_artifacts/certifi_1720457958366/work/certifi\n",
      "cffi @ file:///C:/b/abs_78eb1_vq6z/croot/cffi_1714483206096/work\n",
      "chardet @ file:///C:/Users/dev-admin/perseverance-python-buildout/croot/chardet_1699498892802/work\n",
      "charset-normalizer @ file:///tmp/build/80754af9/charset-normalizer_1630003229654/work\n",
      "click @ file:///C:/Users/dev-admin/perseverance-python-buildout/croot/click_1699473800648/work\n",
      "cloudpickle @ file:///C:/Users/dev-admin/perseverance-python-buildout/croot/cloudpickle_1699480575079/work\n",
      "cmake==3.30.1\n",
      "colorama @ file:///C:/Users/dev-admin/perseverance-python-buildout/croot/colorama_1699472650914/work\n",
      "colorcet @ file:///C:/b/abs_7ep0mfawez/croot/colorcet_1709758405232/work\n",
      "comm @ file:///C:/b/abs_67a8058udb/croot/comm_1709322909844/work\n",
      "conda @ file:///D:/bld/conda_1722273339559/work\n",
      "conda-build @ file:///C:/b/abs_85st9w283e/croot/conda-build_1716991354861/work\n",
      "conda-content-trust @ file:///C:/b/abs_bdfatn_wzf/croot/conda-content-trust_1714483201909/work\n",
      "conda-libmamba-solver @ file:///croot/conda-libmamba-solver_1706733287605/work/src\n",
      "conda-pack @ file:///C:/b/abs_0cu91sbau5/croot/conda-pack_1710258097566/work\n",
      "conda-package-handling @ file:///C:/b/abs_831_pypuuz/croot/conda-package-handling_1718138287790/work\n",
      "conda-repo-cli @ file:///C:/b/abs_7dlvg5f_6q/croot/conda-repo-cli_1709246667780/work\n",
      "conda-token @ file:///croot/conda-token_1718995751285/work\n",
      "conda_index @ file:///C:/b/abs_45v3w98im_/croot/conda-index_1719338245731/work\n",
      "conda_package_streaming @ file:///C:/b/abs_fe6zb0_j8_/croot/conda-package-streaming_1718136098642/work\n",
      "constantly @ file:///C:/b/abs_cbuavw4443/croot/constantly_1703165617403/work\n",
      "contextlib2==21.6.0\n",
      "contourpy @ file:///C:/Users/dev-admin/perseverance-python-buildout/croot/contourpy_1701817388761/work\n",
      "cookiecutter @ file:///C:/b/abs_66untpu1ub/croot/cookiecutter_1711059869779/work\n",
      "cryptography @ file:///C:/b/abs_97lgskwerx/croot/cryptography_1714664736250/work\n",
      "cssselect @ file:///C:/b/abs_71gnjab7b0/croot/cssselect_1707339955530/work\n",
      "cvzone==1.5.6\n",
      "cycler @ file:///tmp/build/80754af9/cycler_1637851556182/work\n",
      "Cython==3.0.10\n",
      "cytoolz @ file:///C:/b/abs_d43s8lnb60/croot/cytoolz_1701723636699/work\n",
      "dask @ file:///C:/b/abs_b0it6fcs79/croot/dask-core_1715838625158/work\n",
      "dask-expr @ file:///C:/b/abs_cf38ehsxus/croot/dask-expr_1715846496633/work\n",
      "datashader @ file:///C:/b/abs_d35eq98l_y/croot/datashader_1718121511257/work\n",
      "debugpy @ file:///C:/Users/dev-admin/perseverance-python-buildout/croot/debugpy_1699554994633/work\n",
      "decorator @ file:///opt/conda/conda-bld/decorator_1643638310831/work\n",
      "defusedxml @ file:///tmp/build/80754af9/defusedxml_1615228127516/work\n",
      "diff-match-patch @ file:///Users/ktietz/demo/mc3/conda-bld/diff-match-patch_1630511840874/work\n",
      "dill @ file:///C:/b/abs_f79eg27d2q/croot/dill_1715094735295/work\n",
      "distlib==0.3.8\n",
      "distributed @ file:///C:/b/abs_27jqurd3gk/croot/distributed_1715844512065/work\n",
      "distro @ file:///C:/b/abs_71xr36ua5r/croot/distro_1714488282676/work\n",
      "dlib==19.24.99\n",
      "docstring-to-markdown @ file:///C:/Users/dev-admin/perseverance-python-buildout/croot/docstring-to-markdown_1699484265167/work\n",
      "docutils==0.21.2\n",
      "entrypoints @ file:///C:/Users/dev-admin/perseverance-python-buildout/croot/entrypoints_1699484295227/work\n",
      "et-xmlfile @ file:///C:/Users/dev-admin/perseverance-python-buildout/croot/et_xmlfile_1699500373144/work\n",
      "executing @ file:///opt/conda/conda-bld/executing_1646925071911/work\n",
      "face-recognition==1.3.0\n",
      "face_recognition_models==0.3.0\n",
      "fastjsonschema @ file:///C:/Users/dev-admin/perseverance-python-buildout/croot/python-fastjsonschema_1699475134300/work\n",
      "filelock @ file:///C:/Users/dev-admin/perseverance-python-buildout/croot/filelock_1701807523603/work\n",
      "filterpy==1.4.5\n",
      "Flag==0.1.1\n",
      "flake8 @ file:///C:/b/abs_caud66drfv/croot/flake8_1708965316778/work\n",
      "Flask @ file:///C:/b/abs_f9w7doyu0h/croot/flask_1716545924884/work\n",
      "flatbuffers==24.3.25\n",
      "fonttools @ file:///C:/b/abs_f47gnfqnx0/croot/fonttools_1713551644747/work\n",
      "fqdn==1.5.1\n",
      "frozendict @ file:///C:/b/abs_2alamqss6p/croot/frozendict_1713194885124/work\n",
      "frozenlist @ file:///C:/Users/dev-admin/perseverance-python-buildout/croot/frozenlist_1699557027827/work\n",
      "fsspec @ file:///C:/b/abs_d5jzmndkba/croot/fsspec_1714461594761/work\n",
      "gast==0.6.0\n",
      "gensim @ file:///C:/Users/dev-admin/perseverance-python-buildout/croot/gensim_1699557139199/work\n",
      "gitdb @ file:///tmp/build/80754af9/gitdb_1617117951232/work\n",
      "GitPython @ file:///C:/Users/dev-admin/perseverance-python-buildout/croot/gitpython_1699557311544/work\n",
      "gmpy2==2.2.1\n",
      "google-pasta==0.2.0\n",
      "greenlet @ file:///C:/b/abs_a6c75ie0bc/croot/greenlet_1702060012174/work\n",
      "grpcio==1.65.1\n",
      "h5py @ file:///D:/bld/h5py_1717665876336/work\n",
      "HeapDict @ file:///Users/ktietz/demo/mc3/conda-bld/heapdict_1630598515714/work\n",
      "holoviews @ file:///C:/b/abs_a4v1zcmvb9/croot/holoviews_1718295339559/work\n",
      "hvplot @ file:///C:/b/abs_d01wnxamc3/croot/hvplot_1715090456803/work\n",
      "hydra-core==1.3.2\n",
      "hyperlink @ file:///tmp/build/80754af9/hyperlink_1610130746837/work\n",
      "idna @ file:///C:/b/abs_aad84bnnw5/croot/idna_1714398896795/work\n",
      "imagecodecs @ file:///D:/bld/imagecodecs_1719236194810/work\n",
      "imageio @ file:///C:/b/abs_aeqerw_nps/croot/imageio_1707247365204/work\n",
      "imagesize @ file:///C:/Users/dev-admin/perseverance-python-buildout/croot/imagesize_1699476341924/work\n",
      "imbalanced-learn @ file:///C:/b/abs_43zx11b5ex/croot/imbalanced-learn_1718132243956/work\n",
      "importlib-metadata @ file:///C:/b/abs_c1egths604/croot/importlib_metadata-suite_1704813568388/work\n",
      "incremental @ file:///croot/incremental_1708639938299/work\n",
      "inflection @ file:///C:/Users/dev-admin/perseverance-python-buildout/croot/inflection_1699500974258/work\n",
      "iniconfig @ file:///home/linux1/recipes/ci/iniconfig_1610983019677/work\n",
      "intake @ file:///C:/b/abs_15sg46u7x7/croot/intake_1717513827138/work\n",
      "intervaltree @ file:///Users/ktietz/demo/mc3/conda-bld/intervaltree_1630511889664/work\n",
      "ipykernel @ file:///C:/b/abs_c2u94kxcy6/croot/ipykernel_1705933907920/work\n",
      "ipympl==0.9.6\n",
      "ipython @ file:///C:/b/abs_7dmlwmkafn/croot/ipython_1718287997280/work\n",
      "ipython-genutils @ file:///tmp/build/80754af9/ipython_genutils_1606773439826/work\n",
      "ipywidgets @ file:///C:/b/abs_4fgmepzmbu/croot/ipywidgets_1710961556913/work\n",
      "isoduration==20.11.0\n",
      "isort @ file:///C:/b/abs_50iy840e4z/croot/isort_1718291849200/work\n",
      "itemadapter @ file:///tmp/build/80754af9/itemadapter_1626442940632/work\n",
      "itemloaders @ file:///C:/b/abs_5e3azgv25z/croot/itemloaders_1708639993442/work\n",
      "itsdangerous @ file:///C:/b/abs_c4vwgdr5yn/croot/itsdangerous_1716533399914/work\n",
      "jaraco.classes @ file:///tmp/build/80754af9/jaraco.classes_1620983179379/work\n",
      "jedi @ file:///C:/Users/dev-admin/perseverance-python-buildout/croot/jedi_1699484554909/work\n",
      "jellyfish @ file:///C:/Users/dev-admin/perseverance-python-buildout/croot/jellyfish_1699558116601/work\n",
      "Jinja2 @ file:///C:/b/abs_92fccttino/croot/jinja2_1716993447201/work\n",
      "jmespath @ file:///C:/Users/dev-admin/perseverance-python-buildout/croot/jmespath_1701807551985/work\n",
      "joblib @ file:///C:/b/abs_f4b98l6lgk/croot/joblib_1718217224240/work\n",
      "json5 @ file:///tmp/build/80754af9/json5_1624432770122/work\n",
      "jsonpatch @ file:///C:/b/abs_4fdm88t7zi/croot/jsonpatch_1714483974578/work\n",
      "jsonpointer==2.1\n",
      "jsonschema @ file:///C:/Users/dev-admin/perseverance-python-buildout/croot/jsonschema_1701796333530/work\n",
      "jsonschema-specifications @ file:///C:/Users/dev-admin/py312/jsonschema-specifications_1706803038066/work\n",
      "jupyter @ file:///C:/b/abs_03nm7xrhxz/croot/jupyter_1709837239940/work\n",
      "jupyter-console @ file:///C:/Users/dev-admin/perseverance-python-buildout/croot/jupyter_console_1707430148515/work\n",
      "jupyter-events @ file:///C:/b/abs_c2m9s5b5m5/croot/jupyter_events_1718738115254/work\n",
      "jupyter-lsp @ file:///C:/Users/dev-admin/perseverance-python-buildout/croot/jupyter-lsp-meta_1701806528286/work\n",
      "jupyter_client @ file:///C:/Users/dev-admin/perseverance-python-buildout/croot/jupyter_client_1701796382758/work\n",
      "jupyter_core @ file:///C:/b/abs_beftpbuevw/croot/jupyter_core_1718818307097/work\n",
      "jupyter_server @ file:///C:/b/abs_9a333nh6yu/croot/jupyter_server_1718827092223/work\n",
      "jupyter_server_terminals @ file:///C:/Users/dev-admin/perseverance-python-buildout/croot/jupyter_server_terminals_1701798041635/work\n",
      "jupyterlab @ file:///C:/Users/dev-admin/perseverance-python-buildout/croot/jupyterlab_1709157383358/work\n",
      "jupyterlab-pygments @ file:///tmp/build/80754af9/jupyterlab_pygments_1601490720602/work\n",
      "jupyterlab-widgets @ file:///tmp/build/80754af9/jupyterlab_widgets_1609884341231/work\n",
      "jupyterlab_server @ file:///C:/Users/dev-admin/perseverance-python-buildout/croot/jupyterlab_server_1701806563401/work\n",
      "kaggle==1.7.4.2\n",
      "keras==3.4.1\n",
      "keyring @ file:///C:/b/abs_78uoj9sw00/croot/keyring_1709632550180/work\n",
      "kiwisolver @ file:///C:/Users/dev-admin/perseverance-python-buildout/croot/kiwisolver_1699476425777/work\n",
      "lazy-object-proxy @ file:///C:/b/abs_19td_nzb6n/croot/lazy-object-proxy_1712908735070/work\n",
      "lazy_loader @ file:///C:/b/abs_3fs2i5w5p3/croot/lazy_loader_1718176758844/work\n",
      "lckr_jupyterlab_variableinspector @ file:///C:/Users/dev-admin/perseverance-python-buildout/croot/jupyterlab-variableinspector_1709167201477/work\n",
      "libarchive-c @ file:///tmp/build/80754af9/python-libarchive-c_1617780486945/work\n",
      "libclang==18.1.1\n",
      "libmambapy @ file:///C:/b/abs_89suv9zwkz/croot/mamba-split_1714484512428/work/libmambapy\n",
      "linkify-it-py @ file:///C:/Users/dev-admin/perseverance-python-buildout/croot/linkify-it-py_1699558957411/work\n",
      "llvmlite==0.43.0\n",
      "lmdb @ file:///C:/Users/dev-admin/perseverance-python-buildout/croot/python-lmdb_1699495888630/work\n",
      "locket @ file:///C:/Users/dev-admin/perseverance-python-buildout/croot/locket_1699476508014/work\n",
      "lxml==5.2.2\n",
      "lz4 @ file:///C:/Users/dev-admin/perseverance-python-buildout/croot/lz4_1699559532268/work\n",
      "Markdown @ file:///C:/Users/dev-admin/perseverance-python-buildout/croot/markdown_1699503092856/work\n",
      "markdown-it-py @ file:///C:/Users/dev-admin/perseverance-python-buildout/croot/markdown-it-py_1699473886965/work\n",
      "MarkupSafe @ file:///C:/Users/dev-admin/perseverance-python-buildout/croot/markupsafe_1707425732791/work\n",
      "matplotlib @ file:///C:/b/abs_ddmsoovv14/croot/matplotlib-suite_1713336426307/work\n",
      "matplotlib-inline @ file:///C:/Users/dev-admin/perseverance-python-buildout/croot/matplotlib-inline_1699484796387/work\n",
      "mccabe @ file:///opt/conda/conda-bld/mccabe_1644221741721/work\n",
      "mdit-py-plugins @ file:///C:/Users/dev-admin/perseverance-python-buildout/croot/mdit-py-plugins_1699559788389/work\n",
      "mdurl @ file:///C:/Users/dev-admin/perseverance-python-buildout/croot/mdurl_1699473506455/work\n",
      "menuinst @ file:///C:/b/abs_e7zsrwvoy0/croot/menuinst_1718132546150/work\n",
      "mistune @ file:///C:/Users/dev-admin/perseverance-python-buildout/croot/mistune_1699559923704/work\n",
      "mkl-fft @ file:///C:/Users/dev-admin/perseverance-python-buildout/croot/mkl_fft_1699473528480/work\n",
      "mkl-random @ file:///C:/Users/dev-admin/perseverance-python-buildout/croot/mkl_random_1699473588250/work\n",
      "mkl-service==2.4.0\n",
      "ml-dtypes==0.4.0\n",
      "more-itertools @ file:///C:/Users/dev-admin/perseverance-python-buildout/croot/more-itertools_1701811589421/work\n",
      "mpmath @ file:///C:/Users/dev-admin/perseverance-python-buildout/croot/mpmath_1699484863771/work\n",
      "msgpack @ file:///C:/Users/dev-admin/perseverance-python-buildout/croot/msgpack-python_1699473924872/work\n",
      "multidict @ file:///C:/b/abs_44ido987fv/croot/multidict_1701097803486/work\n",
      "multipledispatch @ file:///C:/Users/dev-admin/perseverance-python-buildout/croot/multipledispatch_1699473951974/work\n",
      "mypy @ file:///C:/b/abs_66qgae7agv/croot/mypy-split_1718008473940/work\n",
      "mypy-extensions @ file:///C:/Users/dev-admin/perseverance-python-buildout/croot/mypy_extensions_1699482634516/work\n",
      "namex==0.0.8\n",
      "navigator-updater @ file:///C:/b/abs_22_3uaq2ey/croot/navigator-updater_1718030405023/work\n",
      "nbclient @ file:///C:/Users/dev-admin/perseverance-python-buildout/croot/nbclient_1701796752236/work\n",
      "nbconvert @ file:///C:/Users/dev-admin/perseverance-python-buildout/croot/nbconvert_1701806279884/work\n",
      "nbformat @ file:///C:/Users/dev-admin/perseverance-python-buildout/croot/nbformat_1701796704118/work\n",
      "nest-asyncio @ file:///C:/b/abs_65d6lblmoi/croot/nest-asyncio_1708532721305/work\n",
      "networkx @ file:///C:/b/abs_3bxnu56g9d/croot/networkx_1717597507456/work\n",
      "nh3==0.2.18\n",
      "nltk @ file:///C:/Users/dev-admin/perseverance-python-buildout/croot/nltk_1699503238228/work\n",
      "notebook @ file:///C:/Users/dev-admin/perseverance-python-buildout/croot/notebook_1709157811033/work\n",
      "notebook_shim @ file:///C:/Users/dev-admin/perseverance-python-buildout/croot/notebook-shim_1701806592322/work\n",
      "numba @ file:///D:/bld/numba_1718888177582/work\n",
      "numexpr @ file:///C:/Users/dev-admin/perseverance-python-buildout/croot/numexpr_1699503421264/work\n",
      "numpy @ file:///C:/b/abs_c1ywpu18ar/croot/numpy_and_numpy_base_1708638681471/work/dist/numpy-1.26.4-cp312-cp312-win_amd64.whl#sha256=becc06674317799ad0165a939a7613809d0bee9bd328a1e4308c57c39cacf08c\n",
      "numpydoc @ file:///C:/b/abs_bbspp5l8vu/croot/numpydoc_1718279185573/work\n",
      "omegaconf==2.3.0\n",
      "opencv-python==4.10.0.84\n",
      "openpyxl @ file:///C:/b/abs_764brjadj1/croot/openpyxl_1714158895873/work\n",
      "opt-einsum==3.3.0\n",
      "optree==0.12.1\n",
      "overrides @ file:///C:/Users/dev-admin/perseverance-python-buildout/croot/overrides_1701806336503/work\n",
      "packaging @ file:///C:/b/abs_cc1h2xfosn/croot/packaging_1710807447479/work\n",
      "pandas @ file:///C:/b/abs_9aotnvvz16/croot/pandas_1718308978393/work/dist/pandas-2.2.2-cp312-cp312-win_amd64.whl#sha256=93959056e02e9855025011adb18394296a58d49e72b9342733b7693a5267c790\n",
      "pandocfilters @ file:///opt/conda/conda-bld/pandocfilters_1643405455980/work\n",
      "panel @ file:///C:/b/abs_aa_7bchst1/croot/panel_1718119034279/work\n",
      "param @ file:///C:/b/abs_52u4gplvtg/croot/param_1711136867369/work\n",
      "paramiko @ file:///opt/conda/conda-bld/paramiko_1640109032755/work\n",
      "parsel @ file:///C:/b/abs_ebc3tzm_c4/croot/parsel_1707503517596/work\n",
      "parso @ file:///opt/conda/conda-bld/parso_1641458642106/work\n",
      "partd @ file:///C:/Users/dev-admin/perseverance-python-buildout/croot/partd_1699482661603/work\n",
      "pathspec @ file:///C:/Users/dev-admin/perseverance-python-buildout/croot/pathspec_1699472481068/work\n",
      "patsy @ file:///C:/b/abs_21hy_wyj13/croot/patsy_1718378184379/work\n",
      "pexpect @ file:///tmp/build/80754af9/pexpect_1605563209008/work\n",
      "pickleshare @ file:///tmp/build/80754af9/pickleshare_1606932040724/work\n",
      "pillow @ file:///D:/bld/pillow_1719903666313/work\n",
      "pkce @ file:///C:/Users/dev-admin/perseverance-python-buildout/croot/pkce_1699482718905/work\n",
      "pkginfo @ file:///C:/b/abs_bciypal17m/croot/pkginfo_1715696027839/work\n",
      "platformdirs @ file:///C:/Users/dev-admin/perseverance-python-buildout/croot/platformdirs_1701797392447/work\n",
      "plotly @ file:///C:/b/abs_9asyl7560v/croot/plotly_1718136949929/work\n",
      "pluggy @ file:///C:/Users/dev-admin/perseverance-python-buildout/croot/pluggy_1699472504117/work\n",
      "ply @ file:///C:/Users/dev-admin/perseverance-python-buildout/croot/ply_1699473999871/work\n",
      "prometheus-client @ file:///C:/Users/dev-admin/perseverance-python-buildout/croot/prometheus_client_1699495496669/work\n",
      "prompt-toolkit @ file:///C:/b/abs_68uwr58ed1/croot/prompt-toolkit_1704404394082/work\n",
      "Protego @ file:///tmp/build/80754af9/protego_1598657180827/work\n",
      "protobuf==4.25.3\n",
      "psutil @ file:///C:/Users/dev-admin/perseverance-python-buildout/croot/psutil_1699482842340/work\n",
      "ptyprocess @ file:///tmp/build/80754af9/ptyprocess_1609355006118/work/dist/ptyprocess-0.7.0-py2.py3-none-any.whl\n",
      "pure-eval @ file:///opt/conda/conda-bld/pure_eval_1646925070566/work\n",
      "py==1.11.0\n",
      "py-cpuinfo @ file:///C:/Users/dev-admin/perseverance-python-buildout/croot/py-cpuinfo_1699495567147/work\n",
      "pyarrow==17.0.0\n",
      "pyasn1 @ file:///Users/ktietz/demo/mc3/conda-bld/pyasn1_1629708007385/work\n",
      "pyasn1-modules==0.2.8\n",
      "pycodestyle @ file:///C:/b/abs_e9pt4mahct/croot/pycodestyle_1701910643139/work\n",
      "pycosat @ file:///C:/b/abs_5csdern___/croot/pycosat_1714513102923/work\n",
      "pycparser @ file:///tmp/build/80754af9/pycparser_1636541352034/work\n",
      "pycryptodome==3.20.0\n",
      "pyct @ file:///C:/Users/dev-admin/perseverance-python-buildout/croot/pyct_1699542988857/work\n",
      "pycurl==7.45.2\n",
      "pydantic @ file:///C:/b/abs_f6ffn86wjx/croot/pydantic_1709578044014/work\n",
      "pydantic_core @ file:///C:/b/abs_05smrkbwjm/croot/pydantic-core_1709574000211/work\n",
      "pydeck @ file:///C:/b/abs_ad9p880wi1/croot/pydeck_1706194121328/work\n",
      "PyDispatcher @ file:///C:/Users/dev-admin/perseverance-python-buildout/croot/pydispatcher_1699543033434/work\n",
      "pydocstyle @ file:///C:/Users/dev-admin/perseverance-python-buildout/croot/pydocstyle_1699495611004/work\n",
      "pyerfa @ file:///C:/b/abs_477fivsfe8/croot/pyerfa_1717700768172/work\n",
      "pyflakes @ file:///C:/b/abs_b6t1aazq2e/croot/pyflakes_1708963020907/work\n",
      "Pygments @ file:///C:/Users/dev-admin/perseverance-python-buildout/croot/pygments_1699474141968/work\n",
      "pyjokes==0.8.3\n",
      "PyJWT @ file:///C:/b/abs_04qhgo75wz/croot/pyjwt_1715095119685/work\n",
      "pylint @ file:///C:/Users/dev-admin/perseverance-python-buildout/croot/pylint_1699495689806/work\n",
      "pylint-venv @ file:///C:/b/abs_3f6p_17zia/croot/pylint-venv_1709837680309/work\n",
      "pyls-spyder==0.4.0\n",
      "PyNaCl @ file:///C:/Users/dev-admin/perseverance-python-buildout/croot/pynacl_1699563077212/work\n",
      "pyodbc @ file:///C:/b/abs_90kly0uuwz/croot/pyodbc_1705431396548/work\n",
      "pyOpenSSL @ file:///C:/b/abs_5449ditk12/croot/pyopenssl_1708386245896/work\n",
      "pyparsing @ file:///C:/Users/dev-admin/perseverance-python-buildout/croot/pyparsing_1699476875614/work\n",
      "PyQt5==5.15.10\n",
      "PyQt5-sip @ file:///C:/Users/dev-admin/perseverance-python-buildout/croot/pyqt-split_1699478669290/work/pyqt_sip\n",
      "PyQtWebEngine==5.15.6\n",
      "PySocks @ file:///C:/Users/dev-admin/perseverance-python-buildout/croot/pysocks_1699473336188/work\n",
      "pytest @ file:///C:/b/abs_een_3z747j/croot/pytest_1717793253670/work\n",
      "python-dateutil @ file:///C:/b/abs_3au_koqnbs/croot/python-dateutil_1716495777160/work\n",
      "python-dotenv @ file:///C:/Users/dev-admin/perseverance-python-buildout/croot/python-dotenv_1699475097728/work\n",
      "python-json-logger @ file:///C:/Users/dev-admin/perseverance-python-buildout/croot/python-json-logger_1699543626759/work\n",
      "python-lsp-black @ file:///C:/b/abs_5dhen_5vga/croot/python-lsp-black_1709232962589/work\n",
      "python-lsp-jsonrpc @ file:///croot/python-lsp-jsonrpc_1708962872556/work\n",
      "python-lsp-server @ file:///C:/b/abs_2cdyzvcq4z/croot/python-lsp-server_1708971796975/work\n",
      "python-slugify @ file:///tmp/build/80754af9/python-slugify_1620405669636/work\n",
      "python-snappy @ file:///C:/Users/dev-admin/perseverance-python-buildout/croot/python-snappy_1699564939880/work\n",
      "pytoolconfig @ file:///C:/b/abs_f2j_xsvrpn/croot/pytoolconfig_1701728751207/work\n",
      "pytz @ file:///C:/b/abs_6ap4tsz1ox/croot/pytz_1713974360290/work\n",
      "pyviz_comms @ file:///C:/b/abs_674gfmqoxa/croot/pyviz_comms_1711136872853/work\n",
      "pywavelets @ file:///C:/b/abs_7est386xsb/croot/pywavelets_1705049855879/work\n",
      "pywin32==305.1\n",
      "pywin32-ctypes @ file:///C:/b/abs_2cfx5l4nvi/croot/pywin32-ctypes_1709340246092/work\n",
      "pywinpty @ file:///C:/Users/dev-admin/perseverance-python-buildout/croot/pywinpty_1699496010557/work/target/wheels/pywinpty-2.0.10-cp312-none-win_amd64.whl#sha256=227f3f94f568f63ab3418c02875c4b429a0a3638e1a2917a22bb8e4ba1762179\n",
      "PyYAML @ file:///C:/Users/dev-admin/perseverance-python-buildout/croot/pyyaml_1699479991712/work\n",
      "pyzmq @ file:///C:/b/abs_89aq69t0up/croot/pyzmq_1705605705281/work\n",
      "QDarkStyle @ file:///croot/qdarkstyle_1709231003551/work\n",
      "qstylizer @ file:///C:/Users/dev-admin/perseverance-python-buildout/croot/qstylizer_1699565338341/work/dist/qstylizer-0.2.2-py2.py3-none-any.whl#sha256=be2f7d956d89710f13dee80f2d594e794c2710f12576fe60ecee84dd1ad72180\n",
      "QtAwesome @ file:///C:/Users/dev-admin/perseverance-python-buildout/croot/qtawesome_1699565380106/work\n",
      "qtconsole @ file:///C:/b/abs_03f8rg9vl6/croot/qtconsole_1709231218069/work\n",
      "QtPy @ file:///C:/Users/dev-admin/perseverance-python-buildout/croot/qtpy_1701807198514/work\n",
      "queuelib @ file:///C:/Users/dev-admin/perseverance-python-buildout/croot/queuelib_1699543858829/work\n",
      "readme_renderer==44.0\n",
      "referencing @ file:///C:/Users/dev-admin/py312/referencing_1706802962559/work\n",
      "regex @ file:///C:/Users/dev-admin/perseverance-python-buildout/croot/regex_1699483134599/work\n",
      "requests @ file:///C:/b/abs_9c5n24p1y7/croot/requests_1716902867639/work\n",
      "requests-file @ file:///Users/ktietz/demo/mc3/conda-bld/requests-file_1629455781986/work\n",
      "requests-toolbelt @ file:///C:/Users/dev-admin/perseverance-python-buildout/croot/requests-toolbelt_1699475466775/work\n",
      "rfc3339-validator @ file:///C:/Users/dev-admin/perseverance-python-buildout/croot/rfc3339-validator_1699543924991/work\n",
      "rfc3986==2.0.0\n",
      "rfc3986-validator @ file:///C:/Users/dev-admin/perseverance-python-buildout/croot/rfc3986-validator_1699543955651/work\n",
      "rich @ file:///C:/Users/dev-admin/perseverance-python-buildout/croot/rich_1699475515016/work\n",
      "rope @ file:///C:/b/abs_a4uy0nuc8z/croot/rope_1708963217026/work\n",
      "rpds-py @ file:///C:/Users/dev-admin/perseverance-python-buildout/croot/rpds-py_1699565648947/work\n",
      "Rtree @ file:///C:/Users/dev-admin/perseverance-python-buildout/croot/rtree_1699565751755/work\n",
      "ruamel-yaml-conda @ file:///C:/Users/dev-admin/perseverance-python-buildout/croot/ruamel_yaml_1699543990032/work\n",
      "ruamel.yaml @ file:///C:/Users/dev-admin/perseverance-python-buildout/croot/ruamel.yaml_1699483184324/work\n",
      "s3fs @ file:///C:/b/abs_972cxni1lb/croot/s3fs_1714466090144/work\n",
      "scikit-image @ file:///C:/b/abs_c8fk8452if/croot/scikit-image_1718285241274/work\n",
      "scikit-learn @ file:///C:/b/abs_d6_krvz8aa/croot/scikit-learn_1714164798159/work\n",
      "scipy @ file:///C:/b/abs_efv75hqhju/croot/scipy_1717521501389/work/dist/scipy-1.13.1-cp312-cp312-win_amd64.whl#sha256=b29dba691773ea983857b31cad894f31623348583937b6f03783facfd7abc734\n",
      "Scrapy @ file:///C:/b/abs_b407wrcuij/croot/scrapy_1708714755460/work\n",
      "seaborn @ file:///C:/b/abs_ca2mi1rgmn/croot/seaborn_1718303534355/work\n",
      "semver @ file:///C:/b/abs_4bkbn3v6jp/croot/semver_1709243682483/work\n",
      "Send2Trash @ file:///C:/Users/dev-admin/perseverance-python-buildout/croot/send2trash_1701806400767/work\n",
      "service-identity @ file:///Users/ktietz/demo/mc3/conda-bld/service_identity_1629460757137/work\n",
      "setuptools==69.5.1\n",
      "sip @ file:///C:/Users/dev-admin/perseverance-python-buildout/croot/sip_1699475590677/work\n",
      "six @ file:///tmp/build/80754af9/six_1644875935023/work\n",
      "smart-open @ file:///C:/Users/dev-admin/perseverance-python-buildout/croot/smart_open_1699483216058/work\n",
      "smmap @ file:///tmp/build/80754af9/smmap_1611694433573/work\n",
      "sniffio @ file:///C:/b/abs_3akdewudo_/croot/sniffio_1705431337396/work\n",
      "snowballstemmer @ file:///tmp/build/80754af9/snowballstemmer_1637937080595/work\n",
      "sortedcontainers @ file:///tmp/build/80754af9/sortedcontainers_1623949099177/work\n",
      "soupsieve @ file:///C:/Users/dev-admin/perseverance-python-buildout/croot/soupsieve_1699496611169/work\n",
      "Sphinx @ file:///C:/b/abs_67j2y1kkd0/croot/sphinx_1718275396111/work\n",
      "sphinxcontrib-applehelp @ file:///home/ktietz/src/ci/sphinxcontrib-applehelp_1611920841464/work\n",
      "sphinxcontrib-devhelp @ file:///home/ktietz/src/ci/sphinxcontrib-devhelp_1611920923094/work\n",
      "sphinxcontrib-htmlhelp @ file:///tmp/build/80754af9/sphinxcontrib-htmlhelp_1623945626792/work\n",
      "sphinxcontrib-jsmath @ file:///home/ktietz/src/ci/sphinxcontrib-jsmath_1611920942228/work\n",
      "sphinxcontrib-qthelp @ file:///home/ktietz/src/ci/sphinxcontrib-qthelp_1611921055322/work\n",
      "sphinxcontrib-serializinghtml @ file:///C:/b/abs_91266tdnkr/croot/sphinxcontrib-serializinghtml_1718201501959/work\n",
      "spyder @ file:///C:/b/abs_a2orhmqnuf/croot/spyder_1710523737931/work\n",
      "spyder-kernels @ file:///C:/b/abs_e5u6y4ldr2/croot/spyder-kernels_1707937767956/work\n",
      "SQLAlchemy @ file:///C:/b/abs_aa2izo0xio/croot/sqlalchemy_1718378184063/work\n",
      "stack-data @ file:///opt/conda/conda-bld/stack_data_1646927590127/work\n",
      "statsmodels @ file:///C:/b/abs_54b33xdukx/croot/statsmodels_1718381209933/work\n",
      "streamlit @ file:///C:/b/abs_12o66j0das/croot/streamlit_1710262558078/work\n",
      "sympy @ file:///C:/b/abs_82njkonm7f/croot/sympy_1701397685028/work\n",
      "tables==3.9.2\n",
      "tabulate @ file:///C:/Users/dev-admin/perseverance-python-buildout/croot/tabulate_1701812852133/work\n",
      "tblib @ file:///Users/ktietz/demo/mc3/conda-bld/tblib_1629402031467/work\n",
      "tenacity @ file:///C:/Users/dev-admin/perseverance-python-buildout/croot/tenacity_1699483390626/work\n",
      "tensorboard==2.17.0\n",
      "tensorboard-data-server==0.7.2\n",
      "tensorflow==2.17.0\n",
      "tensorflow-intel==2.17.0\n",
      "tensorflow_object_detection_api==0.1.1\n",
      "termcolor==2.4.0\n",
      "terminado @ file:///C:/Users/dev-admin/perseverance-python-buildout/croot/terminado_1699545066607/work\n",
      "text-unidecode @ file:///Users/ktietz/demo/mc3/conda-bld/text-unidecode_1629401354553/work\n",
      "textdistance @ file:///tmp/build/80754af9/textdistance_1612461398012/work\n",
      "threadpoolctl @ file:///Users/ktietz/demo/mc3/conda-bld/threadpoolctl_1629802263681/work\n",
      "three-merge @ file:///tmp/build/80754af9/three-merge_1607553261110/work\n",
      "tifffile @ file:///C:/Users/dev-admin/perseverance-python-buildout/croot/tifffile_1699496794322/work\n",
      "tinycss2 @ file:///C:/Users/dev-admin/perseverance-python-buildout/croot/tinycss2_1699545185754/work\n",
      "tldextract @ file:///opt/conda/conda-bld/tldextract_1646638314385/work\n",
      "toml @ file:///tmp/build/80754af9/toml_1616166611790/work\n",
      "tomli @ file:///C:/Users/dev-admin/perseverance-python-buildout/croot/tomli_1699472528897/work\n",
      "tomlkit @ file:///C:/Users/dev-admin/perseverance-python-buildout/croot/tomlkit_1699475633229/work\n",
      "toolz @ file:///C:/Users/dev-admin/perseverance-python-buildout/croot/toolz_1699474617784/work\n",
      "torch==2.4.0\n",
      "torchvision==0.19.0\n",
      "tornado @ file:///C:/b/abs_7bua0304mj/croot/tornado_1718740122405/work\n",
      "tqdm @ file:///C:/b/abs_a7h7n45ccq/croot/tqdm_1716395987133/work\n",
      "traitlets @ file:///C:/b/abs_bfsnoxl4pq/croot/traitlets_1718227069245/work\n",
      "truststore @ file:///C:/Users/dev-admin/perseverance-python-buildout/croot/truststore_1701881385424/work\n",
      "twine==5.1.1\n",
      "Twisted @ file:///C:/b/abs_e7yqd811in/croot/twisted_1708702883769/work\n",
      "twisted-iocpsupport @ file:///C:/Users/dev-admin/perseverance-python-buildout/croot/twisted-iocpsupport_1699496891011/work\n",
      "typing_extensions @ file:///C:/b/abs_0as9mdbkfl/croot/typing_extensions_1715268906610/work\n",
      "tzdata @ file:///croot/python-tzdata_1690578112552/work\n",
      "uc-micro-py @ file:///C:/Users/dev-admin/perseverance-python-buildout/croot/uc-micro-py_1699545612984/work\n",
      "ujson @ file:///C:/b/abs_c93a278xy4/croot/ujson_1717598062082/work\n",
      "unicodedata2 @ file:///C:/b/abs_b6apldlg7y/croot/unicodedata2_1713212998255/work\n",
      "Unidecode @ file:///tmp/build/80754af9/unidecode_1614712377438/work\n",
      "uri-template==1.3.0\n",
      "urllib3 @ file:///C:/b/abs_a7hvzm4y95/croot/urllib3_1718912661242/work\n",
      "virtualenv==20.26.3\n",
      "w3lib @ file:///C:/Users/dev-admin/perseverance-python-buildout/croot/w3lib_1709162573908/work\n",
      "watchdog @ file:///C:/b/abs_b3l_3s276z/croot/watchdog_1717166538403/work\n",
      "wcwidth @ file:///Users/ktietz/demo/mc3/conda-bld/wcwidth_1629357192024/work\n",
      "webcolors==24.6.0\n",
      "webencodings @ file:///C:/Users/dev-admin/perseverance-python-buildout/croot/webencodings_1699497069416/work\n",
      "websocket-client @ file:///C:/b/abs_5dmnxxoci9/croot/websocket-client_1715878351319/work\n",
      "Werkzeug @ file:///C:/b/abs_8bittcw9jr/croot/werkzeug_1716533366070/work\n",
      "whatthepatch @ file:///C:/Users/dev-admin/perseverance-python-buildout/croot/whatthepatch_1699497134590/work\n",
      "wheel==0.43.0\n",
      "widgetsnbextension @ file:///C:/b/abs_538o2crz7f/croot/widgetsnbextension_1710960099872/work\n",
      "win-inet-pton @ file:///C:/Users/dev-admin/perseverance-python-buildout/croot/win_inet_pton_1699472992992/work\n",
      "wrapt @ file:///C:/Users/dev-admin/perseverance-python-buildout/croot/wrapt_1699480231633/work\n",
      "xarray @ file:///C:/Users/dev-admin/perseverance-python-buildout/croot/xarray_1699480274069/work\n",
      "xlwings @ file:///C:/b/abs_6bsaqa795f/croot/xlwings_1718046948745/work\n",
      "xyzservices @ file:///C:/Users/dev-admin/perseverance-python-buildout/croot/xyzservices_1699548906163/work\n",
      "yapf @ file:///C:/b/abs_8aidayep18/croot/yapf_1708964372649/work\n",
      "yarl @ file:///C:/b/abs_8bxwdyhjvp/croot/yarl_1701105248152/work\n",
      "zict @ file:///C:/Users/dev-admin/perseverance-python-buildout/croot/zict_1699548979005/work\n",
      "zipp @ file:///C:/Users/dev-admin/perseverance-python-buildout/croot/zipp_1707493775475/work\n",
      "zope.interface @ file:///C:/Users/dev-admin/perseverance-python-buildout/croot/zope.interface_1699497164709/work\n",
      "zstandard==0.23.0\n"
     ]
    },
    {
     "name": "stderr",
     "output_type": "stream",
     "text": [
      "DEPRECATION: Loading egg at c:\\users\\sahas\\anaconda3\\lib\\site-packages\\dlib-19.24.99-py3.12-win-amd64.egg is deprecated. pip 24.3 will enforce this behaviour change. A possible replacement is to use pip for package installation.. Discussion can be found at https://github.com/pypa/pip/issues/12330\n"
     ]
    }
   ],
   "source": [
    "!pip freeze\n"
   ]
  },
  {
   "cell_type": "code",
   "execution_count": 47,
   "id": "5c983e13",
   "metadata": {},
   "outputs": [
    {
     "name": "stdout",
     "output_type": "stream",
     "text": [
      "3.10.0\n"
     ]
    }
   ],
   "source": [
    "import matplotlib\n",
    "print(matplotlib.__version__)"
   ]
  },
  {
   "cell_type": "code",
   "execution_count": null,
   "id": "ba10894e",
   "metadata": {},
   "outputs": [],
   "source": []
  }
 ],
 "metadata": {
  "kernelspec": {
   "display_name": ".venv",
   "language": "python",
   "name": "python3"
  },
  "language_info": {
   "codemirror_mode": {
    "name": "ipython",
    "version": 3
   },
   "file_extension": ".py",
   "mimetype": "text/x-python",
   "name": "python",
   "nbconvert_exporter": "python",
   "pygments_lexer": "ipython3",
   "version": "3.12.4"
  }
 },
 "nbformat": 4,
 "nbformat_minor": 5
}
